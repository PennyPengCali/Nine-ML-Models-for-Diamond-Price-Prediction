{
 "cells": [
  {
   "cell_type": "markdown",
   "metadata": {
    "id": "v9Tcs3AMtpCd"
   },
   "source": [
    "<img src=\"pic_1.png\" />"
   ]
  },
  {
   "cell_type": "markdown",
   "metadata": {
    "id": "LgusiQSSet2M"
   },
   "source": [
    "<img src=\"pic_2.png\" />"
   ]
  },
  {
   "cell_type": "code",
   "execution_count": null,
   "metadata": {
    "id": "jB20zoEJefBb"
   },
   "outputs": [],
   "source": [
    "#import most of the libraries needed\n",
    "import pandas as pd\n",
    "import numpy as np\n",
    "import sklearn \n",
    "from sklearn.model_selection import train_test_split\n",
    "from sklearn.model_selection import cross_val_score\n",
    "from sklearn.preprocessing import StandardScaler\n",
    "from sklearn.pipeline import make_pipeline\n",
    "from sklearn.model_selection import GridSearchCV\n",
    "from sklearn.model_selection import cross_validate\n",
    "from sklearn.preprocessing import OneHotEncoder\n",
    "from sklearn.compose import make_column_transformer"
   ]
  },
  {
   "cell_type": "code",
   "execution_count": null,
   "metadata": {
    "id": "Ykb0nJQWeo6N"
   },
   "outputs": [],
   "source": [
    "#set options to show all the columns\n",
    "pd.set_option(\"display.max_columns\", None)"
   ]
  },
  {
   "cell_type": "markdown",
   "metadata": {
    "id": "rHakyFyLtpCl"
   },
   "source": [
    "<img src=\"pic_3.png\" />"
   ]
  },
  {
   "cell_type": "markdown",
   "metadata": {
    "id": "Is-zpx7FtpCl"
   },
   "source": [
    "<img src=\"pic_8.png\" />"
   ]
  },
  {
   "cell_type": "markdown",
   "metadata": {
    "id": "RLq4goqNtpCm"
   },
   "source": [
    "### **Project Overview:**\n",
    "The goal for this research is to **predict a diamond’s price** based on each diamond’s 4C (carat, cut, color, clarity) as well as other statistics. This has important business implications for both customers and sellers. \n",
    "\n",
    "For customers, an accurate price prediction can be a helpful benchmark for them to compare to the actual diamond selling price on the market and evaluate if diamonds are priced fairly. For sellers, the diamond price prediction is useful in their pricing strategies. By approximating different diamonds’ prices using the machine learning models, sellers can then implement pricing strategies to ensure that their products are priced fairly and competitively in the market."
   ]
  },
  {
   "cell_type": "markdown",
   "metadata": {
    "id": "5vZVO5JxtpCm"
   },
   "source": [
    "### Feature Description:\n",
    "- Price: Price in US dollars\n",
    "- Carat: Diamond's physical weight measured in metric carats\n",
    "- Cut: Determing the quality of the cut, the more precising the diamond is cut, the more captivating the diamond is to the eye\n",
    "- Color: The color of gem-quality diamonds ranges from colorless to light yellow or light brown, colourless is the rarest\n",
    "- Clarity: Diamonds without inclusions or blemishes are rare\n",
    "- X: Length in mm\n",
    "- Y: Width in mm\n",
    "- Z: Depth in mm\n",
    "- Depth: Diamond's height(in millimetres) measured from the culet(bottom tip) to the table(flat top surface) in percentage\n",
    "- Table: Table width of the top of the diamond relative to widest point in percentage\n",
    "\n",
    "**Dataset Link**: https://www.kaggle.com/datasets/shubhankitsirvaiya06/diamond-price-prediction"
   ]
  },
  {
   "cell_type": "code",
   "execution_count": null,
   "metadata": {
    "id": "65OYJ5iIexpy"
   },
   "outputs": [],
   "source": [
    "#load the csv file\n",
    "df = pd.read_csv('diamonds.csv') "
   ]
  },
  {
   "cell_type": "code",
   "execution_count": null,
   "metadata": {
    "colab": {
     "base_uri": "https://localhost:8080/",
     "height": 237
    },
    "id": "0-XQ4yu0e73h",
    "outputId": "c1a0f174-7514-44dc-9fd0-1d7db172cf15"
   },
   "outputs": [
    {
     "data": {
      "text/html": [
       "<div>\n",
       "<style scoped>\n",
       "    .dataframe tbody tr th:only-of-type {\n",
       "        vertical-align: middle;\n",
       "    }\n",
       "\n",
       "    .dataframe tbody tr th {\n",
       "        vertical-align: top;\n",
       "    }\n",
       "\n",
       "    .dataframe thead th {\n",
       "        text-align: right;\n",
       "    }\n",
       "</style>\n",
       "<table border=\"1\" class=\"dataframe\">\n",
       "  <thead>\n",
       "    <tr style=\"text-align: right;\">\n",
       "      <th></th>\n",
       "      <th>carat</th>\n",
       "      <th>cut</th>\n",
       "      <th>color</th>\n",
       "      <th>clarity</th>\n",
       "      <th>depth</th>\n",
       "      <th>table</th>\n",
       "      <th>price</th>\n",
       "      <th>x</th>\n",
       "      <th>y</th>\n",
       "      <th>z</th>\n",
       "    </tr>\n",
       "  </thead>\n",
       "  <tbody>\n",
       "    <tr>\n",
       "      <th>0</th>\n",
       "      <td>0.23</td>\n",
       "      <td>Ideal</td>\n",
       "      <td>E</td>\n",
       "      <td>SI2</td>\n",
       "      <td>61.5</td>\n",
       "      <td>55.0</td>\n",
       "      <td>326</td>\n",
       "      <td>3.95</td>\n",
       "      <td>3.98</td>\n",
       "      <td>2.43</td>\n",
       "    </tr>\n",
       "    <tr>\n",
       "      <th>1</th>\n",
       "      <td>0.21</td>\n",
       "      <td>Premium</td>\n",
       "      <td>E</td>\n",
       "      <td>SI1</td>\n",
       "      <td>59.8</td>\n",
       "      <td>61.0</td>\n",
       "      <td>326</td>\n",
       "      <td>3.89</td>\n",
       "      <td>3.84</td>\n",
       "      <td>2.31</td>\n",
       "    </tr>\n",
       "    <tr>\n",
       "      <th>2</th>\n",
       "      <td>0.23</td>\n",
       "      <td>Good</td>\n",
       "      <td>E</td>\n",
       "      <td>VS1</td>\n",
       "      <td>56.9</td>\n",
       "      <td>65.0</td>\n",
       "      <td>327</td>\n",
       "      <td>4.05</td>\n",
       "      <td>4.07</td>\n",
       "      <td>2.31</td>\n",
       "    </tr>\n",
       "    <tr>\n",
       "      <th>3</th>\n",
       "      <td>0.29</td>\n",
       "      <td>Premium</td>\n",
       "      <td>I</td>\n",
       "      <td>VS2</td>\n",
       "      <td>62.4</td>\n",
       "      <td>58.0</td>\n",
       "      <td>334</td>\n",
       "      <td>4.20</td>\n",
       "      <td>4.23</td>\n",
       "      <td>2.63</td>\n",
       "    </tr>\n",
       "    <tr>\n",
       "      <th>4</th>\n",
       "      <td>0.31</td>\n",
       "      <td>Good</td>\n",
       "      <td>J</td>\n",
       "      <td>SI2</td>\n",
       "      <td>63.3</td>\n",
       "      <td>58.0</td>\n",
       "      <td>335</td>\n",
       "      <td>4.34</td>\n",
       "      <td>4.35</td>\n",
       "      <td>2.75</td>\n",
       "    </tr>\n",
       "  </tbody>\n",
       "</table>\n",
       "</div>"
      ],
      "text/plain": [
       "   carat      cut color clarity  depth  table  price     x     y     z\n",
       "0   0.23    Ideal     E     SI2   61.5   55.0    326  3.95  3.98  2.43\n",
       "1   0.21  Premium     E     SI1   59.8   61.0    326  3.89  3.84  2.31\n",
       "2   0.23     Good     E     VS1   56.9   65.0    327  4.05  4.07  2.31\n",
       "3   0.29  Premium     I     VS2   62.4   58.0    334  4.20  4.23  2.63\n",
       "4   0.31     Good     J     SI2   63.3   58.0    335  4.34  4.35  2.75"
      ]
     },
     "execution_count": 7,
     "metadata": {},
     "output_type": "execute_result"
    }
   ],
   "source": [
    "df.head()"
   ]
  },
  {
   "cell_type": "code",
   "execution_count": null,
   "metadata": {
    "colab": {
     "base_uri": "https://localhost:8080/"
    },
    "id": "FI0Q7afFe9yR",
    "outputId": "d632a0e7-61ee-482d-9a68-e410be82d41d"
   },
   "outputs": [
    {
     "data": {
      "text/plain": [
       "0"
      ]
     },
     "execution_count": 8,
     "metadata": {},
     "output_type": "execute_result"
    }
   ],
   "source": [
    "#check the missing values\n",
    "df.isna().sum().sum()"
   ]
  },
  {
   "cell_type": "code",
   "execution_count": null,
   "metadata": {
    "colab": {
     "base_uri": "https://localhost:8080/"
    },
    "id": "HfL1wXGCfEOw",
    "outputId": "b1cdd7db-c81c-4f4b-ac58-b40f9c82e0ad",
    "scrolled": true
   },
   "outputs": [
    {
     "data": {
      "text/plain": [
       "(53940, 10)"
      ]
     },
     "execution_count": 9,
     "metadata": {},
     "output_type": "execute_result"
    }
   ],
   "source": [
    "df.shape"
   ]
  },
  {
   "cell_type": "code",
   "execution_count": null,
   "metadata": {
    "id": "loemT3PotpCq",
    "outputId": "cdbea2c7-6b2a-4ffd-ff6d-6e55120bea29"
   },
   "outputs": [
    {
     "name": "stdout",
     "output_type": "stream",
     "text": [
      "<class 'pandas.core.frame.DataFrame'>\n",
      "RangeIndex: 53940 entries, 0 to 53939\n",
      "Data columns (total 10 columns):\n",
      " #   Column   Non-Null Count  Dtype  \n",
      "---  ------   --------------  -----  \n",
      " 0   carat    53940 non-null  float64\n",
      " 1   cut      53940 non-null  object \n",
      " 2   color    53940 non-null  object \n",
      " 3   clarity  53940 non-null  object \n",
      " 4   depth    53940 non-null  float64\n",
      " 5   table    53940 non-null  float64\n",
      " 6   price    53940 non-null  int64  \n",
      " 7   x        53940 non-null  float64\n",
      " 8   y        53940 non-null  float64\n",
      " 9   z        53940 non-null  float64\n",
      "dtypes: float64(6), int64(1), object(3)\n",
      "memory usage: 4.1+ MB\n"
     ]
    }
   ],
   "source": [
    "df.info()"
   ]
  },
  {
   "cell_type": "code",
   "execution_count": null,
   "metadata": {
    "colab": {
     "base_uri": "https://localhost:8080/",
     "height": 364
    },
    "id": "P579s4vGfG95",
    "outputId": "d991571d-6774-48fc-aedb-708544c0b6fd"
   },
   "outputs": [
    {
     "data": {
      "text/html": [
       "<div>\n",
       "<style scoped>\n",
       "    .dataframe tbody tr th:only-of-type {\n",
       "        vertical-align: middle;\n",
       "    }\n",
       "\n",
       "    .dataframe tbody tr th {\n",
       "        vertical-align: top;\n",
       "    }\n",
       "\n",
       "    .dataframe thead th {\n",
       "        text-align: right;\n",
       "    }\n",
       "</style>\n",
       "<table border=\"1\" class=\"dataframe\">\n",
       "  <thead>\n",
       "    <tr style=\"text-align: right;\">\n",
       "      <th></th>\n",
       "      <th>carat</th>\n",
       "      <th>depth</th>\n",
       "      <th>table</th>\n",
       "      <th>price</th>\n",
       "      <th>x</th>\n",
       "      <th>y</th>\n",
       "      <th>z</th>\n",
       "    </tr>\n",
       "  </thead>\n",
       "  <tbody>\n",
       "    <tr>\n",
       "      <th>count</th>\n",
       "      <td>53940.000000</td>\n",
       "      <td>53940.000000</td>\n",
       "      <td>53940.000000</td>\n",
       "      <td>53940.000000</td>\n",
       "      <td>53940.000000</td>\n",
       "      <td>53940.000000</td>\n",
       "      <td>53940.000000</td>\n",
       "    </tr>\n",
       "    <tr>\n",
       "      <th>mean</th>\n",
       "      <td>0.797940</td>\n",
       "      <td>61.749405</td>\n",
       "      <td>57.457184</td>\n",
       "      <td>3932.799722</td>\n",
       "      <td>5.731157</td>\n",
       "      <td>5.734526</td>\n",
       "      <td>3.538734</td>\n",
       "    </tr>\n",
       "    <tr>\n",
       "      <th>std</th>\n",
       "      <td>0.474011</td>\n",
       "      <td>1.432621</td>\n",
       "      <td>2.234491</td>\n",
       "      <td>3989.439738</td>\n",
       "      <td>1.121761</td>\n",
       "      <td>1.142135</td>\n",
       "      <td>0.705699</td>\n",
       "    </tr>\n",
       "    <tr>\n",
       "      <th>min</th>\n",
       "      <td>0.200000</td>\n",
       "      <td>43.000000</td>\n",
       "      <td>43.000000</td>\n",
       "      <td>326.000000</td>\n",
       "      <td>0.000000</td>\n",
       "      <td>0.000000</td>\n",
       "      <td>0.000000</td>\n",
       "    </tr>\n",
       "    <tr>\n",
       "      <th>25%</th>\n",
       "      <td>0.400000</td>\n",
       "      <td>61.000000</td>\n",
       "      <td>56.000000</td>\n",
       "      <td>950.000000</td>\n",
       "      <td>4.710000</td>\n",
       "      <td>4.720000</td>\n",
       "      <td>2.910000</td>\n",
       "    </tr>\n",
       "    <tr>\n",
       "      <th>50%</th>\n",
       "      <td>0.700000</td>\n",
       "      <td>61.800000</td>\n",
       "      <td>57.000000</td>\n",
       "      <td>2401.000000</td>\n",
       "      <td>5.700000</td>\n",
       "      <td>5.710000</td>\n",
       "      <td>3.530000</td>\n",
       "    </tr>\n",
       "    <tr>\n",
       "      <th>75%</th>\n",
       "      <td>1.040000</td>\n",
       "      <td>62.500000</td>\n",
       "      <td>59.000000</td>\n",
       "      <td>5324.250000</td>\n",
       "      <td>6.540000</td>\n",
       "      <td>6.540000</td>\n",
       "      <td>4.040000</td>\n",
       "    </tr>\n",
       "    <tr>\n",
       "      <th>max</th>\n",
       "      <td>5.010000</td>\n",
       "      <td>79.000000</td>\n",
       "      <td>95.000000</td>\n",
       "      <td>18823.000000</td>\n",
       "      <td>10.740000</td>\n",
       "      <td>58.900000</td>\n",
       "      <td>31.800000</td>\n",
       "    </tr>\n",
       "  </tbody>\n",
       "</table>\n",
       "</div>"
      ],
      "text/plain": [
       "              carat         depth         table         price             x  \\\n",
       "count  53940.000000  53940.000000  53940.000000  53940.000000  53940.000000   \n",
       "mean       0.797940     61.749405     57.457184   3932.799722      5.731157   \n",
       "std        0.474011      1.432621      2.234491   3989.439738      1.121761   \n",
       "min        0.200000     43.000000     43.000000    326.000000      0.000000   \n",
       "25%        0.400000     61.000000     56.000000    950.000000      4.710000   \n",
       "50%        0.700000     61.800000     57.000000   2401.000000      5.700000   \n",
       "75%        1.040000     62.500000     59.000000   5324.250000      6.540000   \n",
       "max        5.010000     79.000000     95.000000  18823.000000     10.740000   \n",
       "\n",
       "                  y             z  \n",
       "count  53940.000000  53940.000000  \n",
       "mean       5.734526      3.538734  \n",
       "std        1.142135      0.705699  \n",
       "min        0.000000      0.000000  \n",
       "25%        4.720000      2.910000  \n",
       "50%        5.710000      3.530000  \n",
       "75%        6.540000      4.040000  \n",
       "max       58.900000     31.800000  "
      ]
     },
     "execution_count": 11,
     "metadata": {},
     "output_type": "execute_result"
    }
   ],
   "source": [
    "df.describe()"
   ]
  },
  {
   "cell_type": "code",
   "execution_count": null,
   "metadata": {
    "colab": {
     "base_uri": "https://localhost:8080/"
    },
    "id": "8GgpvhtAfJj2",
    "outputId": "47c1f576-f74f-4469-a0bb-2d5c16be52ca",
    "scrolled": true
   },
   "outputs": [
    {
     "name": "stdout",
     "output_type": "stream",
     "text": [
      "<class 'pandas.core.frame.DataFrame'>\n",
      "RangeIndex: 53940 entries, 0 to 53939\n",
      "Data columns (total 10 columns):\n",
      " #   Column   Non-Null Count  Dtype  \n",
      "---  ------   --------------  -----  \n",
      " 0   carat    53940 non-null  float64\n",
      " 1   cut      53940 non-null  object \n",
      " 2   color    53940 non-null  object \n",
      " 3   clarity  53940 non-null  object \n",
      " 4   depth    53940 non-null  float64\n",
      " 5   table    53940 non-null  float64\n",
      " 6   price    53940 non-null  int64  \n",
      " 7   x        53940 non-null  float64\n",
      " 8   y        53940 non-null  float64\n",
      " 9   z        53940 non-null  float64\n",
      "dtypes: float64(6), int64(1), object(3)\n",
      "memory usage: 4.1+ MB\n"
     ]
    }
   ],
   "source": [
    "df.info()"
   ]
  },
  {
   "cell_type": "code",
   "execution_count": null,
   "metadata": {
    "id": "aY4XIpU6tpCr",
    "outputId": "818529bf-8472-41d9-cd65-e4cdeb72df83"
   },
   "outputs": [
    {
     "data": {
      "text/plain": [
       "(53920, 10)"
      ]
     },
     "execution_count": 13,
     "metadata": {},
     "output_type": "execute_result"
    }
   ],
   "source": [
    "#drop out dimensionless data\n",
    "df= df.drop(df[df[\"x\"]==0].index)\n",
    "df = df.drop(df[df[\"y\"]==0].index)\n",
    "df = df.drop(df[df[\"z\"]==0].index)\n",
    "df.shape"
   ]
  },
  {
   "cell_type": "markdown",
   "metadata": {
    "id": "-HWxy_WUtpCr"
   },
   "source": [
    "### Data Set Information:\n",
    "- The data set contains 53,940 data points, 9 features which are carat, cut, color,clarity, depth, table, and dimensional features x, y, z. The mean carat weight is 0.7979 and average price is $3932.79.\n",
    "- The data set does not contain any missing values. Each diamond should be 3-dimensional, having non-zero values for x, y, z. In the data set, there are 20 values with a zero value in either x, y, or z. By dropping these dimensionless data points, it reduced the data set to a total of 53,920 data points."
   ]
  },
  {
   "cell_type": "markdown",
   "metadata": {
    "id": "4GG3ct-CfS4D"
   },
   "source": [
    "<img src=\"pic_4.png\" />"
   ]
  },
  {
   "cell_type": "markdown",
   "metadata": {
    "id": "uFHO-GgVtpCs"
   },
   "source": [
    "### Plotting:\n",
    "- In order to capture the underlying trends of the dataset, we plot different types of graphs to aid visualization.\n",
    "- By plotting the scatter matrix, it seems that there are some outliers in the dataset, especially in features y and z. \n",
    "- To determine the outliers to be removed, we plot 4 more plots of depth and dimensions against the diamond price.\n",
    "- Depth less than 50 mm or greater than 75 mm, table less than 50 mm or greater than 75 mm, y less than 20 mm, z less than 2 mm or greater than 10 mm are removed from the data set.\n",
    "- We further removed 21 data points, reducing the data set to 53,899 data points."
   ]
  },
  {
   "cell_type": "code",
   "execution_count": null,
   "metadata": {
    "colab": {
     "base_uri": "https://localhost:8080/",
     "height": 352
    },
    "id": "DmeugdJGfaB1",
    "outputId": "65ddcbb2-ef89-402a-b75c-8178fe15e7f6",
    "scrolled": false
   },
   "outputs": [
    {
     "data": {
      "text/plain": [
       "array([[<AxesSubplot:xlabel='carat', ylabel='carat'>,\n",
       "        <AxesSubplot:xlabel='depth', ylabel='carat'>,\n",
       "        <AxesSubplot:xlabel='table', ylabel='carat'>,\n",
       "        <AxesSubplot:xlabel='price', ylabel='carat'>,\n",
       "        <AxesSubplot:xlabel='x', ylabel='carat'>,\n",
       "        <AxesSubplot:xlabel='y', ylabel='carat'>,\n",
       "        <AxesSubplot:xlabel='z', ylabel='carat'>],\n",
       "       [<AxesSubplot:xlabel='carat', ylabel='depth'>,\n",
       "        <AxesSubplot:xlabel='depth', ylabel='depth'>,\n",
       "        <AxesSubplot:xlabel='table', ylabel='depth'>,\n",
       "        <AxesSubplot:xlabel='price', ylabel='depth'>,\n",
       "        <AxesSubplot:xlabel='x', ylabel='depth'>,\n",
       "        <AxesSubplot:xlabel='y', ylabel='depth'>,\n",
       "        <AxesSubplot:xlabel='z', ylabel='depth'>],\n",
       "       [<AxesSubplot:xlabel='carat', ylabel='table'>,\n",
       "        <AxesSubplot:xlabel='depth', ylabel='table'>,\n",
       "        <AxesSubplot:xlabel='table', ylabel='table'>,\n",
       "        <AxesSubplot:xlabel='price', ylabel='table'>,\n",
       "        <AxesSubplot:xlabel='x', ylabel='table'>,\n",
       "        <AxesSubplot:xlabel='y', ylabel='table'>,\n",
       "        <AxesSubplot:xlabel='z', ylabel='table'>],\n",
       "       [<AxesSubplot:xlabel='carat', ylabel='price'>,\n",
       "        <AxesSubplot:xlabel='depth', ylabel='price'>,\n",
       "        <AxesSubplot:xlabel='table', ylabel='price'>,\n",
       "        <AxesSubplot:xlabel='price', ylabel='price'>,\n",
       "        <AxesSubplot:xlabel='x', ylabel='price'>,\n",
       "        <AxesSubplot:xlabel='y', ylabel='price'>,\n",
       "        <AxesSubplot:xlabel='z', ylabel='price'>],\n",
       "       [<AxesSubplot:xlabel='carat', ylabel='x'>,\n",
       "        <AxesSubplot:xlabel='depth', ylabel='x'>,\n",
       "        <AxesSubplot:xlabel='table', ylabel='x'>,\n",
       "        <AxesSubplot:xlabel='price', ylabel='x'>,\n",
       "        <AxesSubplot:xlabel='x', ylabel='x'>,\n",
       "        <AxesSubplot:xlabel='y', ylabel='x'>,\n",
       "        <AxesSubplot:xlabel='z', ylabel='x'>],\n",
       "       [<AxesSubplot:xlabel='carat', ylabel='y'>,\n",
       "        <AxesSubplot:xlabel='depth', ylabel='y'>,\n",
       "        <AxesSubplot:xlabel='table', ylabel='y'>,\n",
       "        <AxesSubplot:xlabel='price', ylabel='y'>,\n",
       "        <AxesSubplot:xlabel='x', ylabel='y'>,\n",
       "        <AxesSubplot:xlabel='y', ylabel='y'>,\n",
       "        <AxesSubplot:xlabel='z', ylabel='y'>],\n",
       "       [<AxesSubplot:xlabel='carat', ylabel='z'>,\n",
       "        <AxesSubplot:xlabel='depth', ylabel='z'>,\n",
       "        <AxesSubplot:xlabel='table', ylabel='z'>,\n",
       "        <AxesSubplot:xlabel='price', ylabel='z'>,\n",
       "        <AxesSubplot:xlabel='x', ylabel='z'>,\n",
       "        <AxesSubplot:xlabel='y', ylabel='z'>,\n",
       "        <AxesSubplot:xlabel='z', ylabel='z'>]], dtype=object)"
      ]
     },
     "execution_count": 14,
     "metadata": {},
     "output_type": "execute_result"
    },
    {
     "data": {
      "image/png": "[encoded data removed]",
      "text/plain": [
       "<Figure size 936x936 with 49 Axes>"
      ]
     },
     "metadata": {
      "needs_background": "light"
     },
     "output_type": "display_data"
    }
   ],
   "source": [
    "%matplotlib inline\n",
    "import matplotlib.pyplot as plt\n",
    "pd.plotting.scatter_matrix(df, figsize=(13, 13),\n",
    "                           marker='o', hist_kwds={'bins': 50}, s=20,  \n",
    "                           alpha=.6)   "
   ]
  },
  {
   "cell_type": "markdown",
   "metadata": {
    "id": "UT2lX-XntpCs"
   },
   "source": [
    "#### Takeaways:\n",
    "- Carat, dimension x,y, z have clear positive relaionship with price.\n",
    "- There seem to have outliers in y and z"
   ]
  },
  {
   "cell_type": "code",
   "execution_count": null,
   "metadata": {
    "id": "whrVqhNvtpCt",
    "outputId": "32b099da-9165-4a88-a0da-46391dbea753"
   },
   "outputs": [
    {
     "data": {
      "image/png": "[encoded data removed]",
      "text/plain": [
       "<Figure size 360x360 with 1 Axes>"
      ]
     },
     "metadata": {
      "needs_background": "light"
     },
     "output_type": "display_data"
    }
   ],
   "source": [
    "plt.figure(figsize=(5,5))\n",
    "plt.scatter(df['depth'], df['price'], marker= 'o', s=50, alpha=0.8)\n",
    "plt.title('Least-squares linear regression')\n",
    "plt.xlabel('Feature value (x)')\n",
    "plt.ylabel('Target value (y)')\n",
    "plt.show()"
   ]
  },
  {
   "cell_type": "code",
   "execution_count": null,
   "metadata": {
    "id": "8s3RwSuStpCt",
    "outputId": "b454134f-dc9b-4ca7-b92c-2dd5f506e8e4"
   },
   "outputs": [
    {
     "data": {
      "image/png": "[encoded data removed]",
      "text/plain": [
       "<Figure size 360x360 with 1 Axes>"
      ]
     },
     "metadata": {
      "needs_background": "light"
     },
     "output_type": "display_data"
    }
   ],
   "source": [
    "plt.figure(figsize=(5,5))\n",
    "plt.scatter(df['table'], df['price'],marker= 'o', s=50, alpha=0.8)\n",
    "plt.title('Least-squares linear regression')\n",
    "plt.xlabel('Feature value (x)')\n",
    "plt.ylabel('Target value (y)')\n",
    "plt.show()"
   ]
  },
  {
   "cell_type": "code",
   "execution_count": null,
   "metadata": {
    "id": "LwmwfJHKl4Uv",
    "outputId": "e6e0bbe3-c260-427e-bdea-22e33e00b77d"
   },
   "outputs": [
    {
     "data": {
      "image/png": "[encoded data removed]",
      "text/plain": [
       "<Figure size 360x360 with 1 Axes>"
      ]
     },
     "metadata": {
      "needs_background": "light"
     },
     "output_type": "display_data"
    }
   ],
   "source": [
    "plt.figure(figsize=(5,5))\n",
    "plt.scatter(df['y'], df['price'],marker= 'o', s=50, alpha=0.8)\n",
    "plt.title('Least-squares linear regression')\n",
    "plt.xlabel('Feature value (x)')\n",
    "plt.ylabel('Target value (y)')\n",
    "plt.show()"
   ]
  },
  {
   "cell_type": "code",
   "execution_count": null,
   "metadata": {
    "id": "iqeGGLqdtpCu",
    "outputId": "7086fa7f-5262-4ddc-883b-7e9637cee009"
   },
   "outputs": [
    {
     "data": {
      "image/png": "[encoded data removed]",
      "text/plain": [
       "<Figure size 360x360 with 1 Axes>"
      ]
     },
     "metadata": {
      "needs_background": "light"
     },
     "output_type": "display_data"
    }
   ],
   "source": [
    "plt.figure(figsize=(5,5))\n",
    "plt.scatter(df['z'], df['price'],marker= 'o', s=50, alpha=0.8)\n",
    "plt.title('Least-squares linear regression')\n",
    "plt.xlabel('Feature value (x)')\n",
    "plt.ylabel('Target value (y)')\n",
    "plt.show()"
   ]
  },
  {
   "cell_type": "code",
   "execution_count": null,
   "metadata": {
    "id": "ESc6evxutpCu",
    "outputId": "79763747-844d-4b89-89ef-d8fe1750a5de"
   },
   "outputs": [
    {
     "data": {
      "text/plain": [
       "(53899, 10)"
      ]
     },
     "execution_count": 15,
     "metadata": {},
     "output_type": "execute_result"
    }
   ],
   "source": [
    "#move out the outliers\n",
    "df = df[(df[\"depth\"]<75)&(df[\"depth\"]>50)]\n",
    "df = df[(df[\"table\"]<75)&(df[\"table\"]>50)]\n",
    "df = df[(df[\"y\"]<20)]\n",
    "df = df[(df[\"z\"]<10)&(df[\"z\"]>2)]\n",
    "df.shape"
   ]
  },
  {
   "cell_type": "markdown",
   "metadata": {
    "id": "Y6vUK71-tpCu"
   },
   "source": [
    "**Takeaway:**\n",
    "- There are some outliers in the variable **table**.\n",
    "- Then, we decide to remove the values that smaller than 50 and larger than 75."
   ]
  },
  {
   "cell_type": "markdown",
   "metadata": {
    "id": "CzbH36k8tpCu"
   },
   "source": [
    "### Categorical attributes distributions:\n",
    "- To aid understanding of the data set, we plot several count plots to visualize the distribution of the diamonds in the data set.\n",
    "- The majority of the diamonds in the data set has either an ideal or premium cut; either a color of E, F, or G; and a clarity of SI1 or VS2.\n",
    "- The distribution of the diamond's quality has certain indications on the final price diamonds, which can be helpful for us to reach the business recommendations."
   ]
  },
  {
   "cell_type": "code",
   "execution_count": null,
   "metadata": {
    "id": "Y4RmqYJrtpCv",
    "outputId": "03ddc2ed-0130-4d83-eec9-c5f7caac6f32"
   },
   "outputs": [
    {
     "data": {
      "text/plain": [
       "<AxesSubplot:xlabel='cut', ylabel='count'>"
      ]
     },
     "execution_count": 17,
     "metadata": {},
     "output_type": "execute_result"
    },
    {
     "data": {
      "image/png": "[encoded data removed]",
      "text/plain": [
       "<Figure size 432x288 with 1 Axes>"
      ]
     },
     "metadata": {
      "needs_background": "light"
     },
     "output_type": "display_data"
    }
   ],
   "source": [
    "import seaborn as sns\n",
    "\n",
    "sns.countplot(x='cut', data=df)"
   ]
  },
  {
   "cell_type": "code",
   "execution_count": null,
   "metadata": {
    "id": "QNV5Tjh8tpCv",
    "outputId": "242218e6-21a4-49e3-ab7c-6e200e08b9f1"
   },
   "outputs": [
    {
     "data": {
      "text/plain": [
       "<AxesSubplot:xlabel='color', ylabel='count'>"
      ]
     },
     "execution_count": 18,
     "metadata": {},
     "output_type": "execute_result"
    },
    {
     "data": {
      "image/png": "[encoded data removed]",
      "text/plain": [
       "<Figure size 432x288 with 1 Axes>"
      ]
     },
     "metadata": {
      "needs_background": "light"
     },
     "output_type": "display_data"
    }
   ],
   "source": [
    "sns.countplot(x='color', data=df)"
   ]
  },
  {
   "cell_type": "code",
   "execution_count": null,
   "metadata": {
    "id": "h_dcFqOEtpCv",
    "outputId": "75776138-ef4e-444b-91ad-bf6a9aec120e"
   },
   "outputs": [
    {
     "data": {
      "text/plain": [
       "<AxesSubplot:xlabel='clarity', ylabel='count'>"
      ]
     },
     "execution_count": 19,
     "metadata": {},
     "output_type": "execute_result"
    },
    {
     "data": {
      "image/png": "[encoded data removed]",
      "text/plain": [
       "<Figure size 432x288 with 1 Axes>"
      ]
     },
     "metadata": {
      "needs_background": "light"
     },
     "output_type": "display_data"
    }
   ],
   "source": [
    "sns.countplot(x='clarity', data=df)"
   ]
  },
  {
   "cell_type": "code",
   "execution_count": null,
   "metadata": {
    "id": "oOP3wDCctpCv",
    "outputId": "ad940984-9bb8-456d-f5aa-b6e0bba6391b"
   },
   "outputs": [
    {
     "data": {
      "text/plain": [
       "<AxesSubplot:ylabel='cut'>"
      ]
     },
     "execution_count": 20,
     "metadata": {},
     "output_type": "execute_result"
    },
    {
     "data": {
      "image/png": "[encoded data removed]",
      "text/plain": [
       "<Figure size 432x288 with 1 Axes>"
      ]
     },
     "metadata": {
      "needs_background": "light"
     },
     "output_type": "display_data"
    }
   ],
   "source": [
    "df.groupby('cut')['price'].mean().plot(kind='barh')"
   ]
  },
  {
   "cell_type": "markdown",
   "metadata": {
    "id": "MIWJRrcitpCv"
   },
   "source": [
    "**Takeaway:**\n",
    "- The **Premium** cut has the highest average price.\n",
    "- The quality for the cut in increasing order is: Fair, Good, Very Good, Premium, and Ideal."
   ]
  },
  {
   "cell_type": "code",
   "execution_count": null,
   "metadata": {
    "id": "ctxCMJSutpCv",
    "outputId": "6cb957e4-16c8-4666-969a-f44b9ffd7228"
   },
   "outputs": [
    {
     "data": {
      "text/plain": [
       "<AxesSubplot:ylabel='clarity'>"
      ]
     },
     "execution_count": 21,
     "metadata": {},
     "output_type": "execute_result"
    },
    {
     "data": {
      "image/png": "[encoded data removed]",
      "text/plain": [
       "<Figure size 432x288 with 1 Axes>"
      ]
     },
     "metadata": {
      "needs_background": "light"
     },
     "output_type": "display_data"
    }
   ],
   "source": [
    "df.groupby('clarity')['price'].mean().plot(kind='barh')"
   ]
  },
  {
   "cell_type": "markdown",
   "metadata": {
    "id": "pDlwAfMbtpCw"
   },
   "source": [
    "**Takeaway:**\n",
    "- The **SI2** clarity has the highest average price.\n",
    "- The clarity in the order from best to worst is: IF, VVS1, VVS2, VS1, VS2, SI1, SI2, I1."
   ]
  },
  {
   "cell_type": "code",
   "execution_count": null,
   "metadata": {
    "id": "i7OshQ60tpCw",
    "outputId": "d46fa224-7b6d-4304-ec2d-d8381eec6560"
   },
   "outputs": [
    {
     "data": {
      "text/plain": [
       "<AxesSubplot:ylabel='color'>"
      ]
     },
     "execution_count": 22,
     "metadata": {},
     "output_type": "execute_result"
    },
    {
     "data": {
      "image/png": "[encoded data removed]",
      "text/plain": [
       "<Figure size 432x288 with 1 Axes>"
      ]
     },
     "metadata": {
      "needs_background": "light"
     },
     "output_type": "display_data"
    }
   ],
   "source": [
    "df.groupby('color')['price'].mean().plot(kind='barh')"
   ]
  },
  {
   "cell_type": "markdown",
   "metadata": {
    "id": "qPxd68kCtpCw"
   },
   "source": [
    "**Takeaway:**\n",
    "- The color **J** has the highest average price.\n",
    "- The color of the diamond in order from best to worst is: D, E, F, G, H, I, J."
   ]
  },
  {
   "cell_type": "markdown",
   "metadata": {
    "id": "oVwCI71PtpCw"
   },
   "source": [
    "### Next Step:\n",
    "- The visualized histograms show that the best quality of the diamonds not always has the highest average price. However, in the graphs, we only look at price against with one categorical variable. The graphs cannot show how the price would change if we take all variables into consideration. Therefore, we choose to establish a regression model to help better predict the diamond price."
   ]
  },
  {
   "cell_type": "markdown",
   "metadata": {
    "id": "y3iykL0DtpCw"
   },
   "source": [
    "<img src=\"pic_5.png\" />"
   ]
  },
  {
   "cell_type": "markdown",
   "metadata": {
    "id": "nVSyJ4ZktpCw"
   },
   "source": [
    "### Data Preprocessing:\n",
    "- We set price as the target y variable as our goal is to predict the price of diamonds, we decide to add all the 9 features into our model since they are all the important attributes of diamonds and have some relations with the price as shown in the visualizations.\n",
    "- We train and split the data with a random state of 1 and use the default split size.\n",
    "- In the data set, we have 3 categorical variables: cut, color, clarity. And 6 numerical variables other than the target variable price: carat, depth, table, x, y, z.\n",
    "- For data preprocessing, we decide to use make_column_transformer and build a pipeline, then generate in the gridsearchcv as we also want to tune the hyperparameters."
   ]
  },
  {
   "cell_type": "code",
   "execution_count": null,
   "metadata": {
    "id": "m98aNdgxtpCx",
    "outputId": "1636dc6b-aa1e-4e14-d9bd-db4e429e08d1",
    "scrolled": true
   },
   "outputs": [
    {
     "data": {
      "text/html": [
       "<div>\n",
       "<style scoped>\n",
       "    .dataframe tbody tr th:only-of-type {\n",
       "        vertical-align: middle;\n",
       "    }\n",
       "\n",
       "    .dataframe tbody tr th {\n",
       "        vertical-align: top;\n",
       "    }\n",
       "\n",
       "    .dataframe thead th {\n",
       "        text-align: right;\n",
       "    }\n",
       "</style>\n",
       "<table border=\"1\" class=\"dataframe\">\n",
       "  <thead>\n",
       "    <tr style=\"text-align: right;\">\n",
       "      <th></th>\n",
       "      <th>carat</th>\n",
       "      <th>cut</th>\n",
       "      <th>color</th>\n",
       "      <th>clarity</th>\n",
       "      <th>depth</th>\n",
       "      <th>table</th>\n",
       "      <th>price</th>\n",
       "      <th>x</th>\n",
       "      <th>y</th>\n",
       "      <th>z</th>\n",
       "    </tr>\n",
       "  </thead>\n",
       "  <tbody>\n",
       "    <tr>\n",
       "      <th>0</th>\n",
       "      <td>0.23</td>\n",
       "      <td>Ideal</td>\n",
       "      <td>E</td>\n",
       "      <td>SI2</td>\n",
       "      <td>61.5</td>\n",
       "      <td>55.0</td>\n",
       "      <td>326</td>\n",
       "      <td>3.95</td>\n",
       "      <td>3.98</td>\n",
       "      <td>2.43</td>\n",
       "    </tr>\n",
       "    <tr>\n",
       "      <th>1</th>\n",
       "      <td>0.21</td>\n",
       "      <td>Premium</td>\n",
       "      <td>E</td>\n",
       "      <td>SI1</td>\n",
       "      <td>59.8</td>\n",
       "      <td>61.0</td>\n",
       "      <td>326</td>\n",
       "      <td>3.89</td>\n",
       "      <td>3.84</td>\n",
       "      <td>2.31</td>\n",
       "    </tr>\n",
       "    <tr>\n",
       "      <th>2</th>\n",
       "      <td>0.23</td>\n",
       "      <td>Good</td>\n",
       "      <td>E</td>\n",
       "      <td>VS1</td>\n",
       "      <td>56.9</td>\n",
       "      <td>65.0</td>\n",
       "      <td>327</td>\n",
       "      <td>4.05</td>\n",
       "      <td>4.07</td>\n",
       "      <td>2.31</td>\n",
       "    </tr>\n",
       "    <tr>\n",
       "      <th>3</th>\n",
       "      <td>0.29</td>\n",
       "      <td>Premium</td>\n",
       "      <td>I</td>\n",
       "      <td>VS2</td>\n",
       "      <td>62.4</td>\n",
       "      <td>58.0</td>\n",
       "      <td>334</td>\n",
       "      <td>4.20</td>\n",
       "      <td>4.23</td>\n",
       "      <td>2.63</td>\n",
       "    </tr>\n",
       "    <tr>\n",
       "      <th>4</th>\n",
       "      <td>0.31</td>\n",
       "      <td>Good</td>\n",
       "      <td>J</td>\n",
       "      <td>SI2</td>\n",
       "      <td>63.3</td>\n",
       "      <td>58.0</td>\n",
       "      <td>335</td>\n",
       "      <td>4.34</td>\n",
       "      <td>4.35</td>\n",
       "      <td>2.75</td>\n",
       "    </tr>\n",
       "  </tbody>\n",
       "</table>\n",
       "</div>"
      ],
      "text/plain": [
       "   carat      cut color clarity  depth  table  price     x     y     z\n",
       "0   0.23    Ideal     E     SI2   61.5   55.0    326  3.95  3.98  2.43\n",
       "1   0.21  Premium     E     SI1   59.8   61.0    326  3.89  3.84  2.31\n",
       "2   0.23     Good     E     VS1   56.9   65.0    327  4.05  4.07  2.31\n",
       "3   0.29  Premium     I     VS2   62.4   58.0    334  4.20  4.23  2.63\n",
       "4   0.31     Good     J     SI2   63.3   58.0    335  4.34  4.35  2.75"
      ]
     },
     "execution_count": 16,
     "metadata": {},
     "output_type": "execute_result"
    }
   ],
   "source": [
    "df.head()"
   ]
  },
  {
   "cell_type": "code",
   "execution_count": null,
   "metadata": {
    "id": "D3HLPA30tpCx"
   },
   "outputs": [],
   "source": [
    "X=df.drop(columns = 'price')\n",
    "y=df['price']"
   ]
  },
  {
   "cell_type": "code",
   "execution_count": null,
   "metadata": {
    "id": "VSxtueCktpCx"
   },
   "outputs": [],
   "source": [
    "from sklearn.model_selection import train_test_split\n",
    "\n",
    "X_train, X_test, y_train, y_test = train_test_split(X, y, random_state=1)"
   ]
  },
  {
   "cell_type": "code",
   "execution_count": null,
   "metadata": {
    "id": "9uTpUFdhtpCx"
   },
   "outputs": [],
   "source": [
    "col_cat =['cut', 'color', 'clarity']\n",
    "col_num = ['carat','depth', 'table','x', 'y', 'z']"
   ]
  },
  {
   "cell_type": "markdown",
   "metadata": {
    "id": "vbis6jk_tpCy"
   },
   "source": [
    "## Model 1: Linear Regression"
   ]
  },
  {
   "cell_type": "markdown",
   "metadata": {
    "id": "l2-35N3htpCy"
   },
   "source": [
    "- To create and apply separate transformers for numerical and categorical variables, we used make_column_transformer. \n",
    "- Creating a pipeline helped to keep data moedeling organized. \n",
    "- For the linear regression model, we chose to use polynomial features degree ranging from 1 to 3, and fit the training data with specified degree from 1 to 3 in paramters with 5-fold cross-validation.\n",
    "- After looping through predefined hyperparameters and fit the model on the training set, the best parameter from the listed hyperparamters is linear regression with a polynomial feature of degree of 2. \n",
    "- The best score on the validation set is 0.971, the best model on test set is 0.970."
   ]
  },
  {
   "cell_type": "code",
   "execution_count": null,
   "metadata": {
    "id": "RJVr892jtpCy",
    "outputId": "970556ae-55ff-4161-ba4b-d959e2696eab"
   },
   "outputs": [
    {
     "data": {
      "text/plain": [
       "GridSearchCV(cv=5,\n",
       "             estimator=Pipeline(steps=[('columntransformer',\n",
       "                                        ColumnTransformer(transformers=[('onehotencoder',\n",
       "                                                                         OneHotEncoder(),\n",
       "                                                                         ['cut',\n",
       "                                                                          'color',\n",
       "                                                                          'clarity']),\n",
       "                                                                        ('standardscaler',\n",
       "                                                                         StandardScaler(),\n",
       "                                                                         ['carat',\n",
       "                                                                          'depth',\n",
       "                                                                          'table',\n",
       "                                                                          'x',\n",
       "                                                                          'y',\n",
       "                                                                          'z'])])),\n",
       "                                       ('polynomialfeatures',\n",
       "                                        PolynomialFeatures()),\n",
       "                                       ('linearregression',\n",
       "                                        LinearRegression())]),\n",
       "             n_jobs=-1, param_grid={'polynomialfeatures__degree': range(1, 4)},\n",
       "             return_train_score=True)"
      ]
     },
     "execution_count": 27,
     "metadata": {},
     "output_type": "execute_result"
    }
   ],
   "source": [
    "from sklearn.compose import make_column_transformer\n",
    "from sklearn.model_selection import GridSearchCV\n",
    "from sklearn.model_selection import cross_validate\n",
    "from sklearn.linear_model import LinearRegression\n",
    "from sklearn.pipeline import make_pipeline\n",
    "from sklearn.preprocessing import PolynomialFeatures\n",
    "\n",
    "pipe_cat = OneHotEncoder()\n",
    "pipe_num = StandardScaler()\n",
    "\n",
    "preprocessor = make_column_transformer((pipe_cat, col_cat), (pipe_num, col_num)) \n",
    "\n",
    "pipe = make_pipeline(preprocessor, PolynomialFeatures(), LinearRegression()) \n",
    "param_grid = {'polynomialfeatures__degree': range(1,4)} \n",
    "\n",
    "grid_linear = GridSearchCV(pipe, param_grid=param_grid, cv=5, n_jobs=-1,return_train_score=True) \n",
    "grid_linear.fit(X_train, y_train)"
   ]
  },
  {
   "cell_type": "code",
   "execution_count": null,
   "metadata": {
    "id": "JxscxeEDtpCy",
    "outputId": "0f09ca26-ca09-4f4b-987e-6b358060d742",
    "scrolled": false
   },
   "outputs": [
    {
     "data": {
      "text/html": [
       "<div>\n",
       "<style scoped>\n",
       "    .dataframe tbody tr th:only-of-type {\n",
       "        vertical-align: middle;\n",
       "    }\n",
       "\n",
       "    .dataframe tbody tr th {\n",
       "        vertical-align: top;\n",
       "    }\n",
       "\n",
       "    .dataframe thead th {\n",
       "        text-align: right;\n",
       "    }\n",
       "</style>\n",
       "<table border=\"1\" class=\"dataframe\">\n",
       "  <thead>\n",
       "    <tr style=\"text-align: right;\">\n",
       "      <th></th>\n",
       "      <th>mean_fit_time</th>\n",
       "      <th>std_fit_time</th>\n",
       "      <th>mean_score_time</th>\n",
       "      <th>std_score_time</th>\n",
       "      <th>param_polynomialfeatures__degree</th>\n",
       "      <th>params</th>\n",
       "      <th>split0_test_score</th>\n",
       "      <th>split1_test_score</th>\n",
       "      <th>split2_test_score</th>\n",
       "      <th>split3_test_score</th>\n",
       "      <th>split4_test_score</th>\n",
       "      <th>mean_test_score</th>\n",
       "      <th>std_test_score</th>\n",
       "      <th>rank_test_score</th>\n",
       "      <th>split0_train_score</th>\n",
       "      <th>split1_train_score</th>\n",
       "      <th>split2_train_score</th>\n",
       "      <th>split3_train_score</th>\n",
       "      <th>split4_train_score</th>\n",
       "      <th>mean_train_score</th>\n",
       "      <th>std_train_score</th>\n",
       "    </tr>\n",
       "  </thead>\n",
       "  <tbody>\n",
       "    <tr>\n",
       "      <th>0</th>\n",
       "      <td>0.342151</td>\n",
       "      <td>0.075046</td>\n",
       "      <td>0.069777</td>\n",
       "      <td>0.006172</td>\n",
       "      <td>1</td>\n",
       "      <td>{'polynomialfeatures__degree': 1}</td>\n",
       "      <td>9.202565e-01</td>\n",
       "      <td>9.271402e-01</td>\n",
       "      <td>9.117303e-01</td>\n",
       "      <td>9.239646e-01</td>\n",
       "      <td>9.234277e-01</td>\n",
       "      <td>9.213039e-01</td>\n",
       "      <td>5.261239e-03</td>\n",
       "      <td>2</td>\n",
       "      <td>0.922020</td>\n",
       "      <td>0.920380</td>\n",
       "      <td>0.924206</td>\n",
       "      <td>0.921285</td>\n",
       "      <td>0.921336</td>\n",
       "      <td>0.921846</td>\n",
       "      <td>0.001290</td>\n",
       "    </tr>\n",
       "    <tr>\n",
       "      <th>1</th>\n",
       "      <td>4.317168</td>\n",
       "      <td>0.270559</td>\n",
       "      <td>0.460562</td>\n",
       "      <td>0.104971</td>\n",
       "      <td>2</td>\n",
       "      <td>{'polynomialfeatures__degree': 2}</td>\n",
       "      <td>9.701391e-01</td>\n",
       "      <td>9.716587e-01</td>\n",
       "      <td>9.687206e-01</td>\n",
       "      <td>9.728356e-01</td>\n",
       "      <td>9.718743e-01</td>\n",
       "      <td>9.710457e-01</td>\n",
       "      <td>1.448725e-03</td>\n",
       "      <td>1</td>\n",
       "      <td>0.973255</td>\n",
       "      <td>0.972064</td>\n",
       "      <td>0.973538</td>\n",
       "      <td>0.972783</td>\n",
       "      <td>0.972853</td>\n",
       "      <td>0.972898</td>\n",
       "      <td>0.000499</td>\n",
       "    </tr>\n",
       "    <tr>\n",
       "      <th>2</th>\n",
       "      <td>156.001386</td>\n",
       "      <td>2.876355</td>\n",
       "      <td>0.471280</td>\n",
       "      <td>0.080948</td>\n",
       "      <td>3</td>\n",
       "      <td>{'polynomialfeatures__degree': 3}</td>\n",
       "      <td>-2.673168e+16</td>\n",
       "      <td>-2.207414e+15</td>\n",
       "      <td>-4.854570e+13</td>\n",
       "      <td>-1.639178e+12</td>\n",
       "      <td>-7.079965e+13</td>\n",
       "      <td>-5.812016e+15</td>\n",
       "      <td>1.049348e+16</td>\n",
       "      <td>3</td>\n",
       "      <td>0.983264</td>\n",
       "      <td>0.982846</td>\n",
       "      <td>0.983160</td>\n",
       "      <td>0.982898</td>\n",
       "      <td>0.983192</td>\n",
       "      <td>0.983072</td>\n",
       "      <td>0.000168</td>\n",
       "    </tr>\n",
       "  </tbody>\n",
       "</table>\n",
       "</div>"
      ],
      "text/plain": [
       "   mean_fit_time  std_fit_time  mean_score_time  std_score_time  \\\n",
       "0       0.342151      0.075046         0.069777        0.006172   \n",
       "1       4.317168      0.270559         0.460562        0.104971   \n",
       "2     156.001386      2.876355         0.471280        0.080948   \n",
       "\n",
       "  param_polynomialfeatures__degree                             params  \\\n",
       "0                                1  {'polynomialfeatures__degree': 1}   \n",
       "1                                2  {'polynomialfeatures__degree': 2}   \n",
       "2                                3  {'polynomialfeatures__degree': 3}   \n",
       "\n",
       "   split0_test_score  split1_test_score  split2_test_score  split3_test_score  \\\n",
       "0       9.202565e-01       9.271402e-01       9.117303e-01       9.239646e-01   \n",
       "1       9.701391e-01       9.716587e-01       9.687206e-01       9.728356e-01   \n",
       "2      -2.673168e+16      -2.207414e+15      -4.854570e+13      -1.639178e+12   \n",
       "\n",
       "   split4_test_score  mean_test_score  std_test_score  rank_test_score  \\\n",
       "0       9.234277e-01     9.213039e-01    5.261239e-03                2   \n",
       "1       9.718743e-01     9.710457e-01    1.448725e-03                1   \n",
       "2      -7.079965e+13    -5.812016e+15    1.049348e+16                3   \n",
       "\n",
       "   split0_train_score  split1_train_score  split2_train_score  \\\n",
       "0            0.922020            0.920380            0.924206   \n",
       "1            0.973255            0.972064            0.973538   \n",
       "2            0.983264            0.982846            0.983160   \n",
       "\n",
       "   split3_train_score  split4_train_score  mean_train_score  std_train_score  \n",
       "0            0.921285            0.921336          0.921846         0.001290  \n",
       "1            0.972783            0.972853          0.972898         0.000499  \n",
       "2            0.982898            0.983192          0.983072         0.000168  "
      ]
     },
     "execution_count": 28,
     "metadata": {},
     "output_type": "execute_result"
    }
   ],
   "source": [
    "df_linear = pd.DataFrame(grid_linear.cv_results_)\n",
    "df_linear"
   ]
  },
  {
   "cell_type": "code",
   "execution_count": null,
   "metadata": {
    "id": "zfD0RdwztpCy",
    "outputId": "cd5364c9-f0d5-460a-c350-6e336757aff8"
   },
   "outputs": [
    {
     "name": "stdout",
     "output_type": "stream",
     "text": [
      "Best parameters: {'polynomialfeatures__degree': 2}\n",
      "Best R^2 of validation set is : 0.971\n",
      "R^2 of test set is: 0.970\n"
     ]
    }
   ],
   "source": [
    "print(\"Best parameters: {}\".format(grid_linear.best_params_))\n",
    "print(\"Best R^2 of validation set is : {:.3f}\".format(grid_linear.best_score_)) \n",
    "print(\"R^2 of test set is: {:.3f}\".format(grid_linear.score(X_test, y_test))) "
   ]
  },
  {
   "cell_type": "markdown",
   "metadata": {
    "id": "Ej6P9gwVtpCy"
   },
   "source": [
    "## Model 2: Ridge Regression"
   ]
  },
  {
   "cell_type": "markdown",
   "metadata": {
    "id": "mcDvr5-5tpCy"
   },
   "source": [
    "- The ridge regression can be used as a good regularized linear regression method. Ridge regression adds bias enough to make the estimates a reliable representation of the population of data.\n",
    "- For ridge regression, we built a pipeline tuning with polynommial features of degree 1, 2, and 3; as well as ridge alpha of [0.001, 0.01, 0.1, 1, 10, 100].\n",
    "- Using 5-fold cross-validation with their default parameters and fit the training data, the best paramters generated has a polynomial features of degree 3 and a ridge alpha of 10.\n",
    "- The best score on the validation is 0.978, the best model on test set is 0.977.\n",
    "- By visuazling the best r^2 on heat maps, the best parameter is on the border, indicating that we could possibly add another degree to further explore. However, due to the size of the data set and extensive run time, we decide to keep the current parameters as the best parameters, because the score on test set is already pretty high."
   ]
  },
  {
   "cell_type": "code",
   "execution_count": null,
   "metadata": {
    "id": "w4-xgr_UtpCz",
    "outputId": "ec5301e3-5f3d-4b48-e6f1-1c2d7b22fe2f"
   },
   "outputs": [
    {
     "data": {
      "text/plain": [
       "GridSearchCV(cv=5,\n",
       "             estimator=Pipeline(steps=[('columntransformer',\n",
       "                                        ColumnTransformer(transformers=[('onehotencoder',\n",
       "                                                                         OneHotEncoder(),\n",
       "                                                                         ['cut',\n",
       "                                                                          'color',\n",
       "                                                                          'clarity']),\n",
       "                                                                        ('standardscaler',\n",
       "                                                                         StandardScaler(),\n",
       "                                                                         ['carat',\n",
       "                                                                          'depth',\n",
       "                                                                          'table',\n",
       "                                                                          'x',\n",
       "                                                                          'y',\n",
       "                                                                          'z'])])),\n",
       "                                       ('polynomialfeatures',\n",
       "                                        PolynomialFeatures()),\n",
       "                                       ('ridge', Ridge())]),\n",
       "             n_jobs=-1,\n",
       "             param_grid={'polynomialfeatures__degree': [1, 2, 3],\n",
       "                         'ridge__alpha': [0.001, 0.01, 0.1, 1, 10, 100]},\n",
       "             return_train_score=True)"
      ]
     },
     "execution_count": 30,
     "metadata": {},
     "output_type": "execute_result"
    }
   ],
   "source": [
    "from sklearn.linear_model import Ridge\n",
    "pipe_cat = OneHotEncoder()\n",
    "pipe_num = StandardScaler()\n",
    "\n",
    "preprocessor = make_column_transformer((pipe_cat, col_cat), (pipe_num, col_num)) \n",
    "\n",
    "pipe = make_pipeline(preprocessor, PolynomialFeatures(), Ridge()) \n",
    "param_grid = {'polynomialfeatures__degree': [1, 2, 3], #18 combinations\n",
    "              'ridge__alpha': [0.001, 0.01, 0.1, 1, 10, 100]}\n",
    "\n",
    "grid_ridge = GridSearchCV(pipe, param_grid=param_grid, cv=5, n_jobs=-1,return_train_score=True) \n",
    "grid_ridge.fit(X_train, y_train)"
   ]
  },
  {
   "cell_type": "code",
   "execution_count": null,
   "metadata": {
    "id": "5ZSN6jC9tpCz"
   },
   "outputs": [],
   "source": [
    "import pandas as pd #express the performance\n",
    "res1 = pd.pivot_table(pd.DataFrame(grid_ridge.cv_results_), values='mean_test_score', index='param_ridge__alpha', columns='param_polynomialfeatures__degree')\n",
    "pd.set_option(\"display.precision\",3)\n",
    "res1 = res1.set_index(res1.index.values.round(4))"
   ]
  },
  {
   "cell_type": "code",
   "execution_count": null,
   "metadata": {
    "id": "_PMFOaHatpCz",
    "outputId": "44bbfe9f-7626-4ba9-8e15-63fd3c9923fa"
   },
   "outputs": [
    {
     "data": {
      "text/html": [
       "<div>\n",
       "<style scoped>\n",
       "    .dataframe tbody tr th:only-of-type {\n",
       "        vertical-align: middle;\n",
       "    }\n",
       "\n",
       "    .dataframe tbody tr th {\n",
       "        vertical-align: top;\n",
       "    }\n",
       "\n",
       "    .dataframe thead th {\n",
       "        text-align: right;\n",
       "    }\n",
       "</style>\n",
       "<table border=\"1\" class=\"dataframe\">\n",
       "  <thead>\n",
       "    <tr style=\"text-align: right;\">\n",
       "      <th>param_polynomialfeatures__degree</th>\n",
       "      <th>1</th>\n",
       "      <th>2</th>\n",
       "      <th>3</th>\n",
       "    </tr>\n",
       "  </thead>\n",
       "  <tbody>\n",
       "    <tr>\n",
       "      <th>0.001</th>\n",
       "      <td>0.921</td>\n",
       "      <td>0.971</td>\n",
       "      <td>0.933</td>\n",
       "    </tr>\n",
       "    <tr>\n",
       "      <th>0.010</th>\n",
       "      <td>0.921</td>\n",
       "      <td>0.971</td>\n",
       "      <td>0.965</td>\n",
       "    </tr>\n",
       "    <tr>\n",
       "      <th>0.100</th>\n",
       "      <td>0.921</td>\n",
       "      <td>0.971</td>\n",
       "      <td>0.976</td>\n",
       "    </tr>\n",
       "    <tr>\n",
       "      <th>1.000</th>\n",
       "      <td>0.921</td>\n",
       "      <td>0.972</td>\n",
       "      <td>0.978</td>\n",
       "    </tr>\n",
       "    <tr>\n",
       "      <th>10.000</th>\n",
       "      <td>0.921</td>\n",
       "      <td>0.972</td>\n",
       "      <td>0.978</td>\n",
       "    </tr>\n",
       "    <tr>\n",
       "      <th>100.000</th>\n",
       "      <td>0.920</td>\n",
       "      <td>0.970</td>\n",
       "      <td>0.977</td>\n",
       "    </tr>\n",
       "  </tbody>\n",
       "</table>\n",
       "</div>"
      ],
      "text/plain": [
       "param_polynomialfeatures__degree      1      2      3\n",
       "0.001                             0.921  0.971  0.933\n",
       "0.010                             0.921  0.971  0.965\n",
       "0.100                             0.921  0.971  0.976\n",
       "1.000                             0.921  0.972  0.978\n",
       "10.000                            0.921  0.972  0.978\n",
       "100.000                           0.920  0.970  0.977"
      ]
     },
     "execution_count": 33,
     "metadata": {},
     "output_type": "execute_result"
    }
   ],
   "source": [
    "res1"
   ]
  },
  {
   "cell_type": "code",
   "execution_count": null,
   "metadata": {
    "id": "hVjKr5r0tpCz",
    "outputId": "2e3269ea-bd3e-4e5c-ad75-7851fdcf2d8e"
   },
   "outputs": [
    {
     "data": {
      "text/plain": [
       "<AxesSubplot:xlabel='param_polynomialfeatures__degree'>"
      ]
     },
     "execution_count": 34,
     "metadata": {},
     "output_type": "execute_result"
    },
    {
     "data": {
      "image/png": "[encoded data removed]",
      "text/plain": [
       "<Figure size 432x288 with 2 Axes>"
      ]
     },
     "metadata": {
      "needs_background": "light"
     },
     "output_type": "display_data"
    }
   ],
   "source": [
    "import seaborn as sns  #using heatmap is to find out if the best performance  is on the boundary(corner) it may not in the range.\n",
    "sns.heatmap(res1, annot=True, fmt=\".3g\", vmin=0.6)"
   ]
  },
  {
   "cell_type": "code",
   "execution_count": null,
   "metadata": {
    "id": "IVD4uL7BtpCz",
    "outputId": "a1e6061b-af51-46cb-b74b-477310b9ac2b"
   },
   "outputs": [
    {
     "data": {
      "image/png": "[encoded data removed]",
      "text/plain": [
       "<Figure size 600x400 with 2 Axes>"
      ]
     },
     "metadata": {
      "needs_background": "light"
     },
     "output_type": "display_data"
    }
   ],
   "source": [
    "plt.figure(dpi=100)\n",
    "plt.imshow(res1) #, vmin=.70, vmax=.825)\n",
    "plt.colorbar()\n",
    "alphas = param_grid['ridge__alpha']\n",
    "polynomial_degree = np.array(param_grid['polynomialfeatures__degree'])\n",
    "plt.xlabel(\"polynomial_degree\")\n",
    "plt.ylabel(\"alpha\")\n",
    "plt.yticks(range(len(alphas)), [\"{:.4f}\".format(a) for a in alphas])\n",
    "plt.xticks(range(len(polynomial_degree)), polynomial_degree);"
   ]
  },
  {
   "cell_type": "code",
   "execution_count": null,
   "metadata": {
    "id": "cPr7J3eptpC0",
    "outputId": "0a688801-ef9f-4e0d-b485-4124be48f1d6"
   },
   "outputs": [
    {
     "name": "stdout",
     "output_type": "stream",
     "text": [
      "Best parameters: {'polynomialfeatures__degree': 3, 'ridge__alpha': 1}\n",
      "Best R^2 of validation set is: 0.978\n",
      "R^2 of test set is: 0.977\n"
     ]
    }
   ],
   "source": [
    "print(\"Best parameters: {}\".format(grid_ridge.best_params_))\n",
    "print(\"Best R^2 of validation set is: {:.3f}\".format(grid_ridge.best_score_)) \n",
    "print(\"R^2 of test set is: {:.3f}\".format(grid_ridge.score(X_test, y_test))) "
   ]
  },
  {
   "cell_type": "markdown",
   "metadata": {
    "id": "1QmnLd2BtpC0"
   },
   "source": [
    "## Model 3: KNeighborsRegressor"
   ]
  },
  {
   "cell_type": "markdown",
   "metadata": {
    "id": "yA9CHCp-tpC0"
   },
   "source": [
    "- KNeighborsRegressor is a regression based on k-nearest neighbors with the target predicted by local interpolation of the targets associated of the nearest neighbors in the training set.\n",
    "- For KNeighborsRegressor, we built a pipeline with n_neighbors = {1,3,5,7,9} using the training set. \n",
    "- Using 5-fold cross-validation with their default parameters and fit the training data, the best paramters generated has a n_neighbor = 5.\n",
    "- The best score on the validation set is 0.960 and test set is 0.962. Showing better performance on test set."
   ]
  },
  {
   "cell_type": "code",
   "execution_count": null,
   "metadata": {
    "id": "dzP7HgfxtpC0",
    "outputId": "9462cc5e-a84c-4f51-c332-0d562e777b88"
   },
   "outputs": [
    {
     "data": {
      "text/plain": [
       "GridSearchCV(cv=5,\n",
       "             estimator=Pipeline(steps=[('columntransformer',\n",
       "                                        ColumnTransformer(transformers=[('onehotencoder',\n",
       "                                                                         OneHotEncoder(),\n",
       "                                                                         ['cut',\n",
       "                                                                          'color',\n",
       "                                                                          'clarity']),\n",
       "                                                                        ('standardscaler',\n",
       "                                                                         StandardScaler(),\n",
       "                                                                         ['carat',\n",
       "                                                                          'depth',\n",
       "                                                                          'table',\n",
       "                                                                          'x',\n",
       "                                                                          'y',\n",
       "                                                                          'z'])])),\n",
       "                                       ('kneighborsregressor',\n",
       "                                        KNeighborsRegressor())]),\n",
       "             n_jobs=-1,\n",
       "             param_grid={'kneighborsregressor__n_neighbors': [1, 3, 5, 7, 9]},\n",
       "             return_train_score=True)"
      ]
     },
     "execution_count": 37,
     "metadata": {},
     "output_type": "execute_result"
    }
   ],
   "source": [
    "from sklearn.neighbors import KNeighborsRegressor\n",
    "pipe_cat = OneHotEncoder()\n",
    "pipe_num = StandardScaler()\n",
    "preprocessor = make_column_transformer((pipe_cat, col_cat), (pipe_num, col_num)) \n",
    "\n",
    "pipe = make_pipeline(preprocessor, KNeighborsRegressor()) \n",
    "param_grid = {'kneighborsregressor__n_neighbors': [1,3,5,7,9]}\n",
    "\n",
    "grid_knn = GridSearchCV(pipe, param_grid=param_grid, cv=5, n_jobs=-1,return_train_score=True) \n",
    "grid_knn.fit(X_train, y_train)"
   ]
  },
  {
   "cell_type": "code",
   "execution_count": null,
   "metadata": {
    "id": "JNbLZtwatpC0",
    "outputId": "77878869-fd00-4ca8-cb63-f4a0c8a96d9c",
    "scrolled": true
   },
   "outputs": [
    {
     "data": {
      "text/html": [
       "<div>\n",
       "<style scoped>\n",
       "    .dataframe tbody tr th:only-of-type {\n",
       "        vertical-align: middle;\n",
       "    }\n",
       "\n",
       "    .dataframe tbody tr th {\n",
       "        vertical-align: top;\n",
       "    }\n",
       "\n",
       "    .dataframe thead th {\n",
       "        text-align: right;\n",
       "    }\n",
       "</style>\n",
       "<table border=\"1\" class=\"dataframe\">\n",
       "  <thead>\n",
       "    <tr style=\"text-align: right;\">\n",
       "      <th></th>\n",
       "      <th>mean_fit_time</th>\n",
       "      <th>std_fit_time</th>\n",
       "      <th>mean_score_time</th>\n",
       "      <th>std_score_time</th>\n",
       "      <th>param_kneighborsregressor__n_neighbors</th>\n",
       "      <th>params</th>\n",
       "      <th>split0_test_score</th>\n",
       "      <th>split1_test_score</th>\n",
       "      <th>split2_test_score</th>\n",
       "      <th>split3_test_score</th>\n",
       "      <th>split4_test_score</th>\n",
       "      <th>mean_test_score</th>\n",
       "      <th>std_test_score</th>\n",
       "      <th>rank_test_score</th>\n",
       "      <th>split0_train_score</th>\n",
       "      <th>split1_train_score</th>\n",
       "      <th>split2_train_score</th>\n",
       "      <th>split3_train_score</th>\n",
       "      <th>split4_train_score</th>\n",
       "      <th>mean_train_score</th>\n",
       "      <th>std_train_score</th>\n",
       "    </tr>\n",
       "  </thead>\n",
       "  <tbody>\n",
       "    <tr>\n",
       "      <th>0</th>\n",
       "      <td>0.090</td>\n",
       "      <td>0.009</td>\n",
       "      <td>217.996</td>\n",
       "      <td>0.014</td>\n",
       "      <td>1</td>\n",
       "      <td>{'kneighborsregressor__n_neighbors': 1}</td>\n",
       "      <td>0.945</td>\n",
       "      <td>0.945</td>\n",
       "      <td>0.947</td>\n",
       "      <td>0.949</td>\n",
       "      <td>0.943</td>\n",
       "      <td>0.946</td>\n",
       "      <td>2.176e-03</td>\n",
       "      <td>5</td>\n",
       "      <td>1.000</td>\n",
       "      <td>1.000</td>\n",
       "      <td>1.000</td>\n",
       "      <td>1.000</td>\n",
       "      <td>1.000</td>\n",
       "      <td>1.000</td>\n",
       "      <td>2.102e-06</td>\n",
       "    </tr>\n",
       "    <tr>\n",
       "      <th>1</th>\n",
       "      <td>0.143</td>\n",
       "      <td>0.104</td>\n",
       "      <td>151.008</td>\n",
       "      <td>65.220</td>\n",
       "      <td>3</td>\n",
       "      <td>{'kneighborsregressor__n_neighbors': 3}</td>\n",
       "      <td>0.958</td>\n",
       "      <td>0.956</td>\n",
       "      <td>0.960</td>\n",
       "      <td>0.961</td>\n",
       "      <td>0.958</td>\n",
       "      <td>0.959</td>\n",
       "      <td>1.664e-03</td>\n",
       "      <td>3</td>\n",
       "      <td>0.980</td>\n",
       "      <td>0.981</td>\n",
       "      <td>0.981</td>\n",
       "      <td>0.980</td>\n",
       "      <td>0.981</td>\n",
       "      <td>0.981</td>\n",
       "      <td>3.269e-04</td>\n",
       "    </tr>\n",
       "    <tr>\n",
       "      <th>2</th>\n",
       "      <td>0.347</td>\n",
       "      <td>0.191</td>\n",
       "      <td>140.931</td>\n",
       "      <td>46.114</td>\n",
       "      <td>5</td>\n",
       "      <td>{'kneighborsregressor__n_neighbors': 5}</td>\n",
       "      <td>0.959</td>\n",
       "      <td>0.958</td>\n",
       "      <td>0.961</td>\n",
       "      <td>0.961</td>\n",
       "      <td>0.960</td>\n",
       "      <td>0.960</td>\n",
       "      <td>1.032e-03</td>\n",
       "      <td>1</td>\n",
       "      <td>0.974</td>\n",
       "      <td>0.975</td>\n",
       "      <td>0.974</td>\n",
       "      <td>0.974</td>\n",
       "      <td>0.974</td>\n",
       "      <td>0.974</td>\n",
       "      <td>2.630e-04</td>\n",
       "    </tr>\n",
       "    <tr>\n",
       "      <th>3</th>\n",
       "      <td>0.404</td>\n",
       "      <td>0.225</td>\n",
       "      <td>83.639</td>\n",
       "      <td>69.752</td>\n",
       "      <td>7</td>\n",
       "      <td>{'kneighborsregressor__n_neighbors': 7}</td>\n",
       "      <td>0.958</td>\n",
       "      <td>0.958</td>\n",
       "      <td>0.960</td>\n",
       "      <td>0.960</td>\n",
       "      <td>0.960</td>\n",
       "      <td>0.959</td>\n",
       "      <td>7.599e-04</td>\n",
       "      <td>2</td>\n",
       "      <td>0.970</td>\n",
       "      <td>0.970</td>\n",
       "      <td>0.970</td>\n",
       "      <td>0.970</td>\n",
       "      <td>0.970</td>\n",
       "      <td>0.970</td>\n",
       "      <td>2.715e-04</td>\n",
       "    </tr>\n",
       "    <tr>\n",
       "      <th>4</th>\n",
       "      <td>0.547</td>\n",
       "      <td>0.089</td>\n",
       "      <td>39.673</td>\n",
       "      <td>11.668</td>\n",
       "      <td>9</td>\n",
       "      <td>{'kneighborsregressor__n_neighbors': 9}</td>\n",
       "      <td>0.957</td>\n",
       "      <td>0.957</td>\n",
       "      <td>0.958</td>\n",
       "      <td>0.959</td>\n",
       "      <td>0.958</td>\n",
       "      <td>0.958</td>\n",
       "      <td>8.955e-04</td>\n",
       "      <td>4</td>\n",
       "      <td>0.967</td>\n",
       "      <td>0.967</td>\n",
       "      <td>0.967</td>\n",
       "      <td>0.966</td>\n",
       "      <td>0.967</td>\n",
       "      <td>0.967</td>\n",
       "      <td>3.511e-04</td>\n",
       "    </tr>\n",
       "  </tbody>\n",
       "</table>\n",
       "</div>"
      ],
      "text/plain": [
       "   mean_fit_time  std_fit_time  mean_score_time  std_score_time  \\\n",
       "0          0.090         0.009          217.996           0.014   \n",
       "1          0.143         0.104          151.008          65.220   \n",
       "2          0.347         0.191          140.931          46.114   \n",
       "3          0.404         0.225           83.639          69.752   \n",
       "4          0.547         0.089           39.673          11.668   \n",
       "\n",
       "  param_kneighborsregressor__n_neighbors  \\\n",
       "0                                      1   \n",
       "1                                      3   \n",
       "2                                      5   \n",
       "3                                      7   \n",
       "4                                      9   \n",
       "\n",
       "                                    params  split0_test_score  \\\n",
       "0  {'kneighborsregressor__n_neighbors': 1}              0.945   \n",
       "1  {'kneighborsregressor__n_neighbors': 3}              0.958   \n",
       "2  {'kneighborsregressor__n_neighbors': 5}              0.959   \n",
       "3  {'kneighborsregressor__n_neighbors': 7}              0.958   \n",
       "4  {'kneighborsregressor__n_neighbors': 9}              0.957   \n",
       "\n",
       "   split1_test_score  split2_test_score  split3_test_score  split4_test_score  \\\n",
       "0              0.945              0.947              0.949              0.943   \n",
       "1              0.956              0.960              0.961              0.958   \n",
       "2              0.958              0.961              0.961              0.960   \n",
       "3              0.958              0.960              0.960              0.960   \n",
       "4              0.957              0.958              0.959              0.958   \n",
       "\n",
       "   mean_test_score  std_test_score  rank_test_score  split0_train_score  \\\n",
       "0            0.946       2.176e-03                5               1.000   \n",
       "1            0.959       1.664e-03                3               0.980   \n",
       "2            0.960       1.032e-03                1               0.974   \n",
       "3            0.959       7.599e-04                2               0.970   \n",
       "4            0.958       8.955e-04                4               0.967   \n",
       "\n",
       "   split1_train_score  split2_train_score  split3_train_score  \\\n",
       "0               1.000               1.000               1.000   \n",
       "1               0.981               0.981               0.980   \n",
       "2               0.975               0.974               0.974   \n",
       "3               0.970               0.970               0.970   \n",
       "4               0.967               0.967               0.966   \n",
       "\n",
       "   split4_train_score  mean_train_score  std_train_score  \n",
       "0               1.000             1.000        2.102e-06  \n",
       "1               0.981             0.981        3.269e-04  \n",
       "2               0.974             0.974        2.630e-04  \n",
       "3               0.970             0.970        2.715e-04  \n",
       "4               0.967             0.967        3.511e-04  "
      ]
     },
     "execution_count": 38,
     "metadata": {},
     "output_type": "execute_result"
    }
   ],
   "source": [
    "df_knn = pd.DataFrame(grid_knn.cv_results_)\n",
    "df_knn"
   ]
  },
  {
   "cell_type": "code",
   "execution_count": null,
   "metadata": {
    "id": "wmFy1YvktpC0",
    "outputId": "07c4fe8a-f7c9-41e9-84dd-a15d02f4b997"
   },
   "outputs": [
    {
     "name": "stderr",
     "output_type": "stream",
     "text": [
      "<ipython-input-39-ffe6a6c6c6cc>:3: DeprecationWarning: `np.int` is a deprecated alias for the builtin `int`. To silence this warning, use `int` by itself. Doing this will not modify any behavior and is safe. When replacing `np.int`, you may wish to use e.g. `np.int64` or `np.int32` to specify the precision. If you wish to review your current use, check the release note link for additional information.\n",
      "Deprecated in NumPy 1.20; for more details and guidance: https://numpy.org/devdocs/release/1.20.0-notes.html#deprecations\n",
      "  plt.fill_between(df_knn.param_kneighborsregressor__n_neighbors.astype(np.int),\n",
      "<ipython-input-39-ffe6a6c6c6cc>:6: DeprecationWarning: `np.int` is a deprecated alias for the builtin `int`. To silence this warning, use `int` by itself. Doing this will not modify any behavior and is safe. When replacing `np.int`, you may wish to use e.g. `np.int64` or `np.int32` to specify the precision. If you wish to review your current use, check the release note link for additional information.\n",
      "Deprecated in NumPy 1.20; for more details and guidance: https://numpy.org/devdocs/release/1.20.0-notes.html#deprecations\n",
      "  plt.fill_between(df_knn.param_kneighborsregressor__n_neighbors.astype(np.int),\n"
     ]
    },
    {
     "data": {
      "text/plain": [
       "<matplotlib.legend.Legend at 0x7fc93a474430>"
      ]
     },
     "execution_count": 39,
     "metadata": {},
     "output_type": "execute_result"
    },
    {
     "data": {
      "image/png": "[encoded data removed]",
      "text/plain": [
       "<Figure size 432x288 with 1 Axes>"
      ]
     },
     "metadata": {
      "needs_background": "light"
     },
     "output_type": "display_data"
    }
   ],
   "source": [
    "df_knn.plot('param_kneighborsregressor__n_neighbors', 'mean_train_score')\n",
    "df_knn.plot('param_kneighborsregressor__n_neighbors', 'mean_test_score', ax=plt.gca())\n",
    "plt.fill_between(df_knn.param_kneighborsregressor__n_neighbors.astype(np.int),\n",
    "                 df_knn['mean_train_score'] + df_knn['std_train_score'],\n",
    "                 df_knn['mean_train_score'] - df_knn['std_train_score'], alpha=0.2)\n",
    "plt.fill_between(df_knn.param_kneighborsregressor__n_neighbors.astype(np.int),\n",
    "                 df_knn['mean_test_score'] + df_knn['std_test_score'],\n",
    "                 df_knn['mean_test_score'] - df_knn['std_test_score'], alpha=0.2)\n",
    "plt.legend()\n",
    "#shadow is the standard deviation of the performance"
   ]
  },
  {
   "cell_type": "code",
   "execution_count": null,
   "metadata": {
    "id": "eoMK9VtatpC1",
    "outputId": "490e9dfc-0343-444b-bb71-1314ed126524"
   },
   "outputs": [
    {
     "name": "stdout",
     "output_type": "stream",
     "text": [
      "Best parameters: {'kneighborsregressor__n_neighbors': 5}\n",
      "Best R^2 of validation set is: 0.960\n",
      "R^2 of test set is: 0.962\n"
     ]
    }
   ],
   "source": [
    "print(\"Best parameters: {}\".format(grid_knn.best_params_))\n",
    "print(\"Best R^2 of validation set is: {:.3f}\".format(grid_knn.best_score_)) \n",
    "print(\"R^2 of test set is: {:.3f}\".format(grid_knn.score(X_test, y_test))) "
   ]
  },
  {
   "cell_type": "markdown",
   "metadata": {
    "id": "xNmpPcyhtpC1"
   },
   "source": [
    "## Model 4: Random Forest"
   ]
  },
  {
   "cell_type": "markdown",
   "metadata": {
    "id": "c2gDtkpPtpC1"
   },
   "source": [
    "- A random forest regressor is a meta estimator that fits a number of classifying decision trees on various sub-samples of the data set while using averageting to improve the predictive accuracy and control overfitting.\n",
    "- For random forest regressor, we built a pipeline with max_features = [4,8,12,16] and max_depth = [4,6,8,10,12] using the training set.\n",
    "- Using 5-fold cross-validation with their default parameters and fit the training data, the best paramters generated has a max_depth of 12 and max_features of 16.\n",
    "- By visuazling the best r^2 on heat maps, the best parameter is on the border, indicating that we could possibly add another layer of max_depth and max_features  to further explore. However, due to the size of the data set and extensive run time, we decide to keep the current parameters as the best parameters.\n",
    "- The best score on the validation set is 0.978 and test set is 0.977."
   ]
  },
  {
   "cell_type": "code",
   "execution_count": null,
   "metadata": {
    "id": "6tXEHr4ktpC1",
    "outputId": "ae23f0fe-48d6-4ac3-9271-cea0ce5d1b0f"
   },
   "outputs": [
    {
     "data": {
      "text/plain": [
       "GridSearchCV(cv=5,\n",
       "             estimator=Pipeline(steps=[('columntransformer',\n",
       "                                        ColumnTransformer(transformers=[('onehotencoder',\n",
       "                                                                         OneHotEncoder(),\n",
       "                                                                         ['cut',\n",
       "                                                                          'color',\n",
       "                                                                          'clarity']),\n",
       "                                                                        ('standardscaler',\n",
       "                                                                         StandardScaler(),\n",
       "                                                                         ['carat',\n",
       "                                                                          'depth',\n",
       "                                                                          'table',\n",
       "                                                                          'x',\n",
       "                                                                          'y',\n",
       "                                                                          'z'])])),\n",
       "                                       ('randomforestregressor',\n",
       "                                        RandomForestRegressor())]),\n",
       "             n_jobs=-1,\n",
       "             param_grid={'randomforestregressor__max_depth': [4, 6, 8, 10, 12],\n",
       "                         'randomforestregressor__max_features': [4, 8, 12, 16]},\n",
       "             return_train_score=True)"
      ]
     },
     "execution_count": 41,
     "metadata": {},
     "output_type": "execute_result"
    }
   ],
   "source": [
    "from sklearn.ensemble import RandomForestRegressor\n",
    "pipe_cat = OneHotEncoder()\n",
    "pipe_num = StandardScaler()\n",
    "preprocessor = make_column_transformer((pipe_cat, col_cat), (pipe_num, col_num)) \n",
    "\n",
    "pipe = make_pipeline(preprocessor, RandomForestRegressor()) \n",
    "\n",
    "np.set_printoptions(precision=6, suppress=True)\n",
    "param_grid = {'randomforestregressor__max_features': [4,8,12,16],\n",
    "              'randomforestregressor__max_depth': [4,6,8,10,12]} \n",
    "\n",
    "grid_random = GridSearchCV(pipe, param_grid=param_grid, cv=5, n_jobs=-1,return_train_score=True) \n",
    "grid_random.fit(X_train, y_train)"
   ]
  },
  {
   "cell_type": "code",
   "execution_count": null,
   "metadata": {
    "id": "9H23g5CXtpC1",
    "outputId": "18b508f1-97a2-4aaf-b84d-6e817857ab0e"
   },
   "outputs": [
    {
     "data": {
      "text/html": [
       "<div>\n",
       "<style scoped>\n",
       "    .dataframe tbody tr th:only-of-type {\n",
       "        vertical-align: middle;\n",
       "    }\n",
       "\n",
       "    .dataframe tbody tr th {\n",
       "        vertical-align: top;\n",
       "    }\n",
       "\n",
       "    .dataframe thead th {\n",
       "        text-align: right;\n",
       "    }\n",
       "</style>\n",
       "<table border=\"1\" class=\"dataframe\">\n",
       "  <thead>\n",
       "    <tr style=\"text-align: right;\">\n",
       "      <th></th>\n",
       "      <th>mean_fit_time</th>\n",
       "      <th>std_fit_time</th>\n",
       "      <th>mean_score_time</th>\n",
       "      <th>std_score_time</th>\n",
       "      <th>param_randomforestregressor__max_depth</th>\n",
       "      <th>param_randomforestregressor__max_features</th>\n",
       "      <th>params</th>\n",
       "      <th>split0_test_score</th>\n",
       "      <th>split1_test_score</th>\n",
       "      <th>split2_test_score</th>\n",
       "      <th>split3_test_score</th>\n",
       "      <th>split4_test_score</th>\n",
       "      <th>mean_test_score</th>\n",
       "      <th>std_test_score</th>\n",
       "      <th>rank_test_score</th>\n",
       "      <th>split0_train_score</th>\n",
       "      <th>split1_train_score</th>\n",
       "      <th>split2_train_score</th>\n",
       "      <th>split3_train_score</th>\n",
       "      <th>split4_train_score</th>\n",
       "      <th>mean_train_score</th>\n",
       "      <th>std_train_score</th>\n",
       "    </tr>\n",
       "  </thead>\n",
       "  <tbody>\n",
       "    <tr>\n",
       "      <th>0</th>\n",
       "      <td>1.503</td>\n",
       "      <td>0.013</td>\n",
       "      <td>0.060</td>\n",
       "      <td>1.204e-03</td>\n",
       "      <td>4</td>\n",
       "      <td>4</td>\n",
       "      <td>{'randomforestregressor__max_depth': 4, 'rando...</td>\n",
       "      <td>0.869</td>\n",
       "      <td>0.871</td>\n",
       "      <td>0.874</td>\n",
       "      <td>0.862</td>\n",
       "      <td>0.861</td>\n",
       "      <td>0.867</td>\n",
       "      <td>4.883e-03</td>\n",
       "      <td>20</td>\n",
       "      <td>0.871</td>\n",
       "      <td>0.869</td>\n",
       "      <td>0.878</td>\n",
       "      <td>0.859</td>\n",
       "      <td>0.867</td>\n",
       "      <td>0.869</td>\n",
       "      <td>6.074e-03</td>\n",
       "    </tr>\n",
       "    <tr>\n",
       "      <th>1</th>\n",
       "      <td>2.365</td>\n",
       "      <td>0.008</td>\n",
       "      <td>0.063</td>\n",
       "      <td>7.119e-04</td>\n",
       "      <td>4</td>\n",
       "      <td>8</td>\n",
       "      <td>{'randomforestregressor__max_depth': 4, 'rando...</td>\n",
       "      <td>0.902</td>\n",
       "      <td>0.905</td>\n",
       "      <td>0.902</td>\n",
       "      <td>0.905</td>\n",
       "      <td>0.902</td>\n",
       "      <td>0.903</td>\n",
       "      <td>1.503e-03</td>\n",
       "      <td>19</td>\n",
       "      <td>0.904</td>\n",
       "      <td>0.905</td>\n",
       "      <td>0.906</td>\n",
       "      <td>0.903</td>\n",
       "      <td>0.905</td>\n",
       "      <td>0.904</td>\n",
       "      <td>1.021e-03</td>\n",
       "    </tr>\n",
       "    <tr>\n",
       "      <th>2</th>\n",
       "      <td>3.190</td>\n",
       "      <td>0.017</td>\n",
       "      <td>0.064</td>\n",
       "      <td>1.183e-03</td>\n",
       "      <td>4</td>\n",
       "      <td>12</td>\n",
       "      <td>{'randomforestregressor__max_depth': 4, 'rando...</td>\n",
       "      <td>0.906</td>\n",
       "      <td>0.908</td>\n",
       "      <td>0.906</td>\n",
       "      <td>0.912</td>\n",
       "      <td>0.905</td>\n",
       "      <td>0.907</td>\n",
       "      <td>2.331e-03</td>\n",
       "      <td>18</td>\n",
       "      <td>0.909</td>\n",
       "      <td>0.909</td>\n",
       "      <td>0.909</td>\n",
       "      <td>0.909</td>\n",
       "      <td>0.908</td>\n",
       "      <td>0.909</td>\n",
       "      <td>3.875e-04</td>\n",
       "    </tr>\n",
       "    <tr>\n",
       "      <th>3</th>\n",
       "      <td>4.110</td>\n",
       "      <td>0.057</td>\n",
       "      <td>0.065</td>\n",
       "      <td>9.340e-04</td>\n",
       "      <td>4</td>\n",
       "      <td>16</td>\n",
       "      <td>{'randomforestregressor__max_depth': 4, 'rando...</td>\n",
       "      <td>0.907</td>\n",
       "      <td>0.908</td>\n",
       "      <td>0.906</td>\n",
       "      <td>0.912</td>\n",
       "      <td>0.906</td>\n",
       "      <td>0.908</td>\n",
       "      <td>2.111e-03</td>\n",
       "      <td>17</td>\n",
       "      <td>0.909</td>\n",
       "      <td>0.910</td>\n",
       "      <td>0.910</td>\n",
       "      <td>0.910</td>\n",
       "      <td>0.909</td>\n",
       "      <td>0.910</td>\n",
       "      <td>5.281e-04</td>\n",
       "    </tr>\n",
       "    <tr>\n",
       "      <th>4</th>\n",
       "      <td>2.028</td>\n",
       "      <td>0.051</td>\n",
       "      <td>0.074</td>\n",
       "      <td>1.820e-03</td>\n",
       "      <td>6</td>\n",
       "      <td>4</td>\n",
       "      <td>{'randomforestregressor__max_depth': 6, 'rando...</td>\n",
       "      <td>0.918</td>\n",
       "      <td>0.918</td>\n",
       "      <td>0.917</td>\n",
       "      <td>0.921</td>\n",
       "      <td>0.919</td>\n",
       "      <td>0.918</td>\n",
       "      <td>1.327e-03</td>\n",
       "      <td>16</td>\n",
       "      <td>0.921</td>\n",
       "      <td>0.919</td>\n",
       "      <td>0.921</td>\n",
       "      <td>0.920</td>\n",
       "      <td>0.922</td>\n",
       "      <td>0.920</td>\n",
       "      <td>1.072e-03</td>\n",
       "    </tr>\n",
       "    <tr>\n",
       "      <th>5</th>\n",
       "      <td>3.133</td>\n",
       "      <td>0.019</td>\n",
       "      <td>0.074</td>\n",
       "      <td>3.321e-03</td>\n",
       "      <td>6</td>\n",
       "      <td>8</td>\n",
       "      <td>{'randomforestregressor__max_depth': 6, 'rando...</td>\n",
       "      <td>0.933</td>\n",
       "      <td>0.935</td>\n",
       "      <td>0.934</td>\n",
       "      <td>0.936</td>\n",
       "      <td>0.935</td>\n",
       "      <td>0.935</td>\n",
       "      <td>8.049e-04</td>\n",
       "      <td>15</td>\n",
       "      <td>0.937</td>\n",
       "      <td>0.937</td>\n",
       "      <td>0.937</td>\n",
       "      <td>0.936</td>\n",
       "      <td>0.937</td>\n",
       "      <td>0.937</td>\n",
       "      <td>3.857e-04</td>\n",
       "    </tr>\n",
       "    <tr>\n",
       "      <th>6</th>\n",
       "      <td>4.390</td>\n",
       "      <td>0.047</td>\n",
       "      <td>0.081</td>\n",
       "      <td>1.811e-03</td>\n",
       "      <td>6</td>\n",
       "      <td>12</td>\n",
       "      <td>{'randomforestregressor__max_depth': 6, 'rando...</td>\n",
       "      <td>0.938</td>\n",
       "      <td>0.938</td>\n",
       "      <td>0.939</td>\n",
       "      <td>0.941</td>\n",
       "      <td>0.939</td>\n",
       "      <td>0.939</td>\n",
       "      <td>8.728e-04</td>\n",
       "      <td>14</td>\n",
       "      <td>0.942</td>\n",
       "      <td>0.941</td>\n",
       "      <td>0.941</td>\n",
       "      <td>0.941</td>\n",
       "      <td>0.941</td>\n",
       "      <td>0.941</td>\n",
       "      <td>2.747e-04</td>\n",
       "    </tr>\n",
       "    <tr>\n",
       "      <th>7</th>\n",
       "      <td>5.620</td>\n",
       "      <td>0.048</td>\n",
       "      <td>0.077</td>\n",
       "      <td>2.219e-03</td>\n",
       "      <td>6</td>\n",
       "      <td>16</td>\n",
       "      <td>{'randomforestregressor__max_depth': 6, 'rando...</td>\n",
       "      <td>0.940</td>\n",
       "      <td>0.939</td>\n",
       "      <td>0.939</td>\n",
       "      <td>0.943</td>\n",
       "      <td>0.941</td>\n",
       "      <td>0.940</td>\n",
       "      <td>1.366e-03</td>\n",
       "      <td>13</td>\n",
       "      <td>0.943</td>\n",
       "      <td>0.942</td>\n",
       "      <td>0.943</td>\n",
       "      <td>0.943</td>\n",
       "      <td>0.942</td>\n",
       "      <td>0.942</td>\n",
       "      <td>3.658e-04</td>\n",
       "    </tr>\n",
       "    <tr>\n",
       "      <th>8</th>\n",
       "      <td>2.429</td>\n",
       "      <td>0.031</td>\n",
       "      <td>0.088</td>\n",
       "      <td>2.607e-03</td>\n",
       "      <td>8</td>\n",
       "      <td>4</td>\n",
       "      <td>{'randomforestregressor__max_depth': 8, 'rando...</td>\n",
       "      <td>0.942</td>\n",
       "      <td>0.944</td>\n",
       "      <td>0.943</td>\n",
       "      <td>0.945</td>\n",
       "      <td>0.942</td>\n",
       "      <td>0.943</td>\n",
       "      <td>1.200e-03</td>\n",
       "      <td>12</td>\n",
       "      <td>0.948</td>\n",
       "      <td>0.947</td>\n",
       "      <td>0.948</td>\n",
       "      <td>0.948</td>\n",
       "      <td>0.946</td>\n",
       "      <td>0.947</td>\n",
       "      <td>7.470e-04</td>\n",
       "    </tr>\n",
       "    <tr>\n",
       "      <th>9</th>\n",
       "      <td>3.877</td>\n",
       "      <td>0.035</td>\n",
       "      <td>0.092</td>\n",
       "      <td>2.289e-03</td>\n",
       "      <td>8</td>\n",
       "      <td>8</td>\n",
       "      <td>{'randomforestregressor__max_depth': 8, 'rando...</td>\n",
       "      <td>0.955</td>\n",
       "      <td>0.955</td>\n",
       "      <td>0.955</td>\n",
       "      <td>0.958</td>\n",
       "      <td>0.955</td>\n",
       "      <td>0.955</td>\n",
       "      <td>1.063e-03</td>\n",
       "      <td>11</td>\n",
       "      <td>0.960</td>\n",
       "      <td>0.959</td>\n",
       "      <td>0.959</td>\n",
       "      <td>0.959</td>\n",
       "      <td>0.958</td>\n",
       "      <td>0.959</td>\n",
       "      <td>7.256e-04</td>\n",
       "    </tr>\n",
       "    <tr>\n",
       "      <th>10</th>\n",
       "      <td>5.361</td>\n",
       "      <td>0.017</td>\n",
       "      <td>0.092</td>\n",
       "      <td>8.595e-04</td>\n",
       "      <td>8</td>\n",
       "      <td>12</td>\n",
       "      <td>{'randomforestregressor__max_depth': 8, 'rando...</td>\n",
       "      <td>0.958</td>\n",
       "      <td>0.958</td>\n",
       "      <td>0.959</td>\n",
       "      <td>0.961</td>\n",
       "      <td>0.960</td>\n",
       "      <td>0.959</td>\n",
       "      <td>1.209e-03</td>\n",
       "      <td>9</td>\n",
       "      <td>0.963</td>\n",
       "      <td>0.963</td>\n",
       "      <td>0.963</td>\n",
       "      <td>0.963</td>\n",
       "      <td>0.962</td>\n",
       "      <td>0.963</td>\n",
       "      <td>2.742e-04</td>\n",
       "    </tr>\n",
       "    <tr>\n",
       "      <th>11</th>\n",
       "      <td>6.847</td>\n",
       "      <td>0.025</td>\n",
       "      <td>0.092</td>\n",
       "      <td>1.108e-03</td>\n",
       "      <td>8</td>\n",
       "      <td>16</td>\n",
       "      <td>{'randomforestregressor__max_depth': 8, 'rando...</td>\n",
       "      <td>0.959</td>\n",
       "      <td>0.960</td>\n",
       "      <td>0.960</td>\n",
       "      <td>0.963</td>\n",
       "      <td>0.961</td>\n",
       "      <td>0.960</td>\n",
       "      <td>1.416e-03</td>\n",
       "      <td>8</td>\n",
       "      <td>0.964</td>\n",
       "      <td>0.964</td>\n",
       "      <td>0.964</td>\n",
       "      <td>0.964</td>\n",
       "      <td>0.964</td>\n",
       "      <td>0.964</td>\n",
       "      <td>1.507e-04</td>\n",
       "    </tr>\n",
       "    <tr>\n",
       "      <th>12</th>\n",
       "      <td>2.855</td>\n",
       "      <td>0.046</td>\n",
       "      <td>0.108</td>\n",
       "      <td>2.445e-03</td>\n",
       "      <td>10</td>\n",
       "      <td>4</td>\n",
       "      <td>{'randomforestregressor__max_depth': 10, 'rand...</td>\n",
       "      <td>0.958</td>\n",
       "      <td>0.958</td>\n",
       "      <td>0.958</td>\n",
       "      <td>0.959</td>\n",
       "      <td>0.957</td>\n",
       "      <td>0.958</td>\n",
       "      <td>6.593e-04</td>\n",
       "      <td>10</td>\n",
       "      <td>0.965</td>\n",
       "      <td>0.964</td>\n",
       "      <td>0.965</td>\n",
       "      <td>0.964</td>\n",
       "      <td>0.963</td>\n",
       "      <td>0.964</td>\n",
       "      <td>6.231e-04</td>\n",
       "    </tr>\n",
       "    <tr>\n",
       "      <th>13</th>\n",
       "      <td>4.516</td>\n",
       "      <td>0.032</td>\n",
       "      <td>0.111</td>\n",
       "      <td>3.431e-03</td>\n",
       "      <td>10</td>\n",
       "      <td>8</td>\n",
       "      <td>{'randomforestregressor__max_depth': 10, 'rand...</td>\n",
       "      <td>0.967</td>\n",
       "      <td>0.967</td>\n",
       "      <td>0.968</td>\n",
       "      <td>0.970</td>\n",
       "      <td>0.970</td>\n",
       "      <td>0.968</td>\n",
       "      <td>1.103e-03</td>\n",
       "      <td>6</td>\n",
       "      <td>0.974</td>\n",
       "      <td>0.974</td>\n",
       "      <td>0.974</td>\n",
       "      <td>0.974</td>\n",
       "      <td>0.974</td>\n",
       "      <td>0.974</td>\n",
       "      <td>2.619e-04</td>\n",
       "    </tr>\n",
       "    <tr>\n",
       "      <th>14</th>\n",
       "      <td>6.335</td>\n",
       "      <td>0.055</td>\n",
       "      <td>0.110</td>\n",
       "      <td>1.320e-03</td>\n",
       "      <td>10</td>\n",
       "      <td>12</td>\n",
       "      <td>{'randomforestregressor__max_depth': 10, 'rand...</td>\n",
       "      <td>0.970</td>\n",
       "      <td>0.972</td>\n",
       "      <td>0.972</td>\n",
       "      <td>0.973</td>\n",
       "      <td>0.972</td>\n",
       "      <td>0.972</td>\n",
       "      <td>9.346e-04</td>\n",
       "      <td>5</td>\n",
       "      <td>0.977</td>\n",
       "      <td>0.977</td>\n",
       "      <td>0.977</td>\n",
       "      <td>0.977</td>\n",
       "      <td>0.977</td>\n",
       "      <td>0.977</td>\n",
       "      <td>1.698e-04</td>\n",
       "    </tr>\n",
       "    <tr>\n",
       "      <th>15</th>\n",
       "      <td>7.963</td>\n",
       "      <td>0.064</td>\n",
       "      <td>0.112</td>\n",
       "      <td>1.787e-03</td>\n",
       "      <td>10</td>\n",
       "      <td>16</td>\n",
       "      <td>{'randomforestregressor__max_depth': 10, 'rand...</td>\n",
       "      <td>0.971</td>\n",
       "      <td>0.972</td>\n",
       "      <td>0.973</td>\n",
       "      <td>0.974</td>\n",
       "      <td>0.973</td>\n",
       "      <td>0.973</td>\n",
       "      <td>1.059e-03</td>\n",
       "      <td>4</td>\n",
       "      <td>0.978</td>\n",
       "      <td>0.978</td>\n",
       "      <td>0.978</td>\n",
       "      <td>0.978</td>\n",
       "      <td>0.978</td>\n",
       "      <td>0.978</td>\n",
       "      <td>1.607e-04</td>\n",
       "    </tr>\n",
       "    <tr>\n",
       "      <th>16</th>\n",
       "      <td>3.234</td>\n",
       "      <td>0.015</td>\n",
       "      <td>0.131</td>\n",
       "      <td>8.656e-04</td>\n",
       "      <td>12</td>\n",
       "      <td>4</td>\n",
       "      <td>{'randomforestregressor__max_depth': 12, 'rand...</td>\n",
       "      <td>0.966</td>\n",
       "      <td>0.968</td>\n",
       "      <td>0.967</td>\n",
       "      <td>0.969</td>\n",
       "      <td>0.968</td>\n",
       "      <td>0.968</td>\n",
       "      <td>9.130e-04</td>\n",
       "      <td>7</td>\n",
       "      <td>0.977</td>\n",
       "      <td>0.977</td>\n",
       "      <td>0.977</td>\n",
       "      <td>0.976</td>\n",
       "      <td>0.976</td>\n",
       "      <td>0.977</td>\n",
       "      <td>9.901e-05</td>\n",
       "    </tr>\n",
       "    <tr>\n",
       "      <th>17</th>\n",
       "      <td>5.176</td>\n",
       "      <td>0.045</td>\n",
       "      <td>0.136</td>\n",
       "      <td>5.008e-03</td>\n",
       "      <td>12</td>\n",
       "      <td>8</td>\n",
       "      <td>{'randomforestregressor__max_depth': 12, 'rand...</td>\n",
       "      <td>0.975</td>\n",
       "      <td>0.975</td>\n",
       "      <td>0.975</td>\n",
       "      <td>0.977</td>\n",
       "      <td>0.976</td>\n",
       "      <td>0.976</td>\n",
       "      <td>7.091e-04</td>\n",
       "      <td>3</td>\n",
       "      <td>0.984</td>\n",
       "      <td>0.983</td>\n",
       "      <td>0.983</td>\n",
       "      <td>0.983</td>\n",
       "      <td>0.983</td>\n",
       "      <td>0.983</td>\n",
       "      <td>1.869e-04</td>\n",
       "    </tr>\n",
       "    <tr>\n",
       "      <th>18</th>\n",
       "      <td>7.006</td>\n",
       "      <td>0.150</td>\n",
       "      <td>0.132</td>\n",
       "      <td>2.309e-03</td>\n",
       "      <td>12</td>\n",
       "      <td>12</td>\n",
       "      <td>{'randomforestregressor__max_depth': 12, 'rand...</td>\n",
       "      <td>0.976</td>\n",
       "      <td>0.977</td>\n",
       "      <td>0.978</td>\n",
       "      <td>0.979</td>\n",
       "      <td>0.978</td>\n",
       "      <td>0.978</td>\n",
       "      <td>9.038e-04</td>\n",
       "      <td>2</td>\n",
       "      <td>0.985</td>\n",
       "      <td>0.985</td>\n",
       "      <td>0.985</td>\n",
       "      <td>0.985</td>\n",
       "      <td>0.985</td>\n",
       "      <td>0.985</td>\n",
       "      <td>9.431e-05</td>\n",
       "    </tr>\n",
       "    <tr>\n",
       "      <th>19</th>\n",
       "      <td>7.757</td>\n",
       "      <td>0.678</td>\n",
       "      <td>0.097</td>\n",
       "      <td>1.016e-02</td>\n",
       "      <td>12</td>\n",
       "      <td>16</td>\n",
       "      <td>{'randomforestregressor__max_depth': 12, 'rand...</td>\n",
       "      <td>0.977</td>\n",
       "      <td>0.978</td>\n",
       "      <td>0.978</td>\n",
       "      <td>0.980</td>\n",
       "      <td>0.979</td>\n",
       "      <td>0.978</td>\n",
       "      <td>8.512e-04</td>\n",
       "      <td>1</td>\n",
       "      <td>0.986</td>\n",
       "      <td>0.986</td>\n",
       "      <td>0.986</td>\n",
       "      <td>0.986</td>\n",
       "      <td>0.986</td>\n",
       "      <td>0.986</td>\n",
       "      <td>1.038e-04</td>\n",
       "    </tr>\n",
       "  </tbody>\n",
       "</table>\n",
       "</div>"
      ],
      "text/plain": [
       "    mean_fit_time  std_fit_time  mean_score_time  std_score_time  \\\n",
       "0           1.503         0.013            0.060       1.204e-03   \n",
       "1           2.365         0.008            0.063       7.119e-04   \n",
       "2           3.190         0.017            0.064       1.183e-03   \n",
       "3           4.110         0.057            0.065       9.340e-04   \n",
       "4           2.028         0.051            0.074       1.820e-03   \n",
       "5           3.133         0.019            0.074       3.321e-03   \n",
       "6           4.390         0.047            0.081       1.811e-03   \n",
       "7           5.620         0.048            0.077       2.219e-03   \n",
       "8           2.429         0.031            0.088       2.607e-03   \n",
       "9           3.877         0.035            0.092       2.289e-03   \n",
       "10          5.361         0.017            0.092       8.595e-04   \n",
       "11          6.847         0.025            0.092       1.108e-03   \n",
       "12          2.855         0.046            0.108       2.445e-03   \n",
       "13          4.516         0.032            0.111       3.431e-03   \n",
       "14          6.335         0.055            0.110       1.320e-03   \n",
       "15          7.963         0.064            0.112       1.787e-03   \n",
       "16          3.234         0.015            0.131       8.656e-04   \n",
       "17          5.176         0.045            0.136       5.008e-03   \n",
       "18          7.006         0.150            0.132       2.309e-03   \n",
       "19          7.757         0.678            0.097       1.016e-02   \n",
       "\n",
       "   param_randomforestregressor__max_depth  \\\n",
       "0                                       4   \n",
       "1                                       4   \n",
       "2                                       4   \n",
       "3                                       4   \n",
       "4                                       6   \n",
       "5                                       6   \n",
       "6                                       6   \n",
       "7                                       6   \n",
       "8                                       8   \n",
       "9                                       8   \n",
       "10                                      8   \n",
       "11                                      8   \n",
       "12                                     10   \n",
       "13                                     10   \n",
       "14                                     10   \n",
       "15                                     10   \n",
       "16                                     12   \n",
       "17                                     12   \n",
       "18                                     12   \n",
       "19                                     12   \n",
       "\n",
       "   param_randomforestregressor__max_features  \\\n",
       "0                                          4   \n",
       "1                                          8   \n",
       "2                                         12   \n",
       "3                                         16   \n",
       "4                                          4   \n",
       "5                                          8   \n",
       "6                                         12   \n",
       "7                                         16   \n",
       "8                                          4   \n",
       "9                                          8   \n",
       "10                                        12   \n",
       "11                                        16   \n",
       "12                                         4   \n",
       "13                                         8   \n",
       "14                                        12   \n",
       "15                                        16   \n",
       "16                                         4   \n",
       "17                                         8   \n",
       "18                                        12   \n",
       "19                                        16   \n",
       "\n",
       "                                               params  split0_test_score  \\\n",
       "0   {'randomforestregressor__max_depth': 4, 'rando...              0.869   \n",
       "1   {'randomforestregressor__max_depth': 4, 'rando...              0.902   \n",
       "2   {'randomforestregressor__max_depth': 4, 'rando...              0.906   \n",
       "3   {'randomforestregressor__max_depth': 4, 'rando...              0.907   \n",
       "4   {'randomforestregressor__max_depth': 6, 'rando...              0.918   \n",
       "5   {'randomforestregressor__max_depth': 6, 'rando...              0.933   \n",
       "6   {'randomforestregressor__max_depth': 6, 'rando...              0.938   \n",
       "7   {'randomforestregressor__max_depth': 6, 'rando...              0.940   \n",
       "8   {'randomforestregressor__max_depth': 8, 'rando...              0.942   \n",
       "9   {'randomforestregressor__max_depth': 8, 'rando...              0.955   \n",
       "10  {'randomforestregressor__max_depth': 8, 'rando...              0.958   \n",
       "11  {'randomforestregressor__max_depth': 8, 'rando...              0.959   \n",
       "12  {'randomforestregressor__max_depth': 10, 'rand...              0.958   \n",
       "13  {'randomforestregressor__max_depth': 10, 'rand...              0.967   \n",
       "14  {'randomforestregressor__max_depth': 10, 'rand...              0.970   \n",
       "15  {'randomforestregressor__max_depth': 10, 'rand...              0.971   \n",
       "16  {'randomforestregressor__max_depth': 12, 'rand...              0.966   \n",
       "17  {'randomforestregressor__max_depth': 12, 'rand...              0.975   \n",
       "18  {'randomforestregressor__max_depth': 12, 'rand...              0.976   \n",
       "19  {'randomforestregressor__max_depth': 12, 'rand...              0.977   \n",
       "\n",
       "    split1_test_score  split2_test_score  split3_test_score  \\\n",
       "0               0.871              0.874              0.862   \n",
       "1               0.905              0.902              0.905   \n",
       "2               0.908              0.906              0.912   \n",
       "3               0.908              0.906              0.912   \n",
       "4               0.918              0.917              0.921   \n",
       "5               0.935              0.934              0.936   \n",
       "6               0.938              0.939              0.941   \n",
       "7               0.939              0.939              0.943   \n",
       "8               0.944              0.943              0.945   \n",
       "9               0.955              0.955              0.958   \n",
       "10              0.958              0.959              0.961   \n",
       "11              0.960              0.960              0.963   \n",
       "12              0.958              0.958              0.959   \n",
       "13              0.967              0.968              0.970   \n",
       "14              0.972              0.972              0.973   \n",
       "15              0.972              0.973              0.974   \n",
       "16              0.968              0.967              0.969   \n",
       "17              0.975              0.975              0.977   \n",
       "18              0.977              0.978              0.979   \n",
       "19              0.978              0.978              0.980   \n",
       "\n",
       "    split4_test_score  mean_test_score  std_test_score  rank_test_score  \\\n",
       "0               0.861            0.867       4.883e-03               20   \n",
       "1               0.902            0.903       1.503e-03               19   \n",
       "2               0.905            0.907       2.331e-03               18   \n",
       "3               0.906            0.908       2.111e-03               17   \n",
       "4               0.919            0.918       1.327e-03               16   \n",
       "5               0.935            0.935       8.049e-04               15   \n",
       "6               0.939            0.939       8.728e-04               14   \n",
       "7               0.941            0.940       1.366e-03               13   \n",
       "8               0.942            0.943       1.200e-03               12   \n",
       "9               0.955            0.955       1.063e-03               11   \n",
       "10              0.960            0.959       1.209e-03                9   \n",
       "11              0.961            0.960       1.416e-03                8   \n",
       "12              0.957            0.958       6.593e-04               10   \n",
       "13              0.970            0.968       1.103e-03                6   \n",
       "14              0.972            0.972       9.346e-04                5   \n",
       "15              0.973            0.973       1.059e-03                4   \n",
       "16              0.968            0.968       9.130e-04                7   \n",
       "17              0.976            0.976       7.091e-04                3   \n",
       "18              0.978            0.978       9.038e-04                2   \n",
       "19              0.979            0.978       8.512e-04                1   \n",
       "\n",
       "    split0_train_score  split1_train_score  split2_train_score  \\\n",
       "0                0.871               0.869               0.878   \n",
       "1                0.904               0.905               0.906   \n",
       "2                0.909               0.909               0.909   \n",
       "3                0.909               0.910               0.910   \n",
       "4                0.921               0.919               0.921   \n",
       "5                0.937               0.937               0.937   \n",
       "6                0.942               0.941               0.941   \n",
       "7                0.943               0.942               0.943   \n",
       "8                0.948               0.947               0.948   \n",
       "9                0.960               0.959               0.959   \n",
       "10               0.963               0.963               0.963   \n",
       "11               0.964               0.964               0.964   \n",
       "12               0.965               0.964               0.965   \n",
       "13               0.974               0.974               0.974   \n",
       "14               0.977               0.977               0.977   \n",
       "15               0.978               0.978               0.978   \n",
       "16               0.977               0.977               0.977   \n",
       "17               0.984               0.983               0.983   \n",
       "18               0.985               0.985               0.985   \n",
       "19               0.986               0.986               0.986   \n",
       "\n",
       "    split3_train_score  split4_train_score  mean_train_score  std_train_score  \n",
       "0                0.859               0.867             0.869        6.074e-03  \n",
       "1                0.903               0.905             0.904        1.021e-03  \n",
       "2                0.909               0.908             0.909        3.875e-04  \n",
       "3                0.910               0.909             0.910        5.281e-04  \n",
       "4                0.920               0.922             0.920        1.072e-03  \n",
       "5                0.936               0.937             0.937        3.857e-04  \n",
       "6                0.941               0.941             0.941        2.747e-04  \n",
       "7                0.943               0.942             0.942        3.658e-04  \n",
       "8                0.948               0.946             0.947        7.470e-04  \n",
       "9                0.959               0.958             0.959        7.256e-04  \n",
       "10               0.963               0.962             0.963        2.742e-04  \n",
       "11               0.964               0.964             0.964        1.507e-04  \n",
       "12               0.964               0.963             0.964        6.231e-04  \n",
       "13               0.974               0.974             0.974        2.619e-04  \n",
       "14               0.977               0.977             0.977        1.698e-04  \n",
       "15               0.978               0.978             0.978        1.607e-04  \n",
       "16               0.976               0.976             0.977        9.901e-05  \n",
       "17               0.983               0.983             0.983        1.869e-04  \n",
       "18               0.985               0.985             0.985        9.431e-05  \n",
       "19               0.986               0.986             0.986        1.038e-04  "
      ]
     },
     "execution_count": 42,
     "metadata": {},
     "output_type": "execute_result"
    }
   ],
   "source": [
    "df_random = pd.DataFrame(grid_random.cv_results_)\n",
    "df_random"
   ]
  },
  {
   "cell_type": "code",
   "execution_count": null,
   "metadata": {
    "id": "quIWEXj1tpC1",
    "outputId": "aa73045c-c364-4a83-dec2-d0bcaec51a41"
   },
   "outputs": [
    {
     "data": {
      "text/html": [
       "<div>\n",
       "<style scoped>\n",
       "    .dataframe tbody tr th:only-of-type {\n",
       "        vertical-align: middle;\n",
       "    }\n",
       "\n",
       "    .dataframe tbody tr th {\n",
       "        vertical-align: top;\n",
       "    }\n",
       "\n",
       "    .dataframe thead th {\n",
       "        text-align: right;\n",
       "    }\n",
       "</style>\n",
       "<table border=\"1\" class=\"dataframe\">\n",
       "  <thead>\n",
       "    <tr style=\"text-align: right;\">\n",
       "      <th>param_randomforestregressor__max_features</th>\n",
       "      <th>4</th>\n",
       "      <th>8</th>\n",
       "      <th>12</th>\n",
       "      <th>16</th>\n",
       "    </tr>\n",
       "  </thead>\n",
       "  <tbody>\n",
       "    <tr>\n",
       "      <th>4</th>\n",
       "      <td>0.8672</td>\n",
       "      <td>0.9031</td>\n",
       "      <td>0.9073</td>\n",
       "      <td>0.9080</td>\n",
       "    </tr>\n",
       "    <tr>\n",
       "      <th>6</th>\n",
       "      <td>0.9182</td>\n",
       "      <td>0.9345</td>\n",
       "      <td>0.9390</td>\n",
       "      <td>0.9403</td>\n",
       "    </tr>\n",
       "    <tr>\n",
       "      <th>8</th>\n",
       "      <td>0.9433</td>\n",
       "      <td>0.9555</td>\n",
       "      <td>0.9591</td>\n",
       "      <td>0.9604</td>\n",
       "    </tr>\n",
       "    <tr>\n",
       "      <th>10</th>\n",
       "      <td>0.9581</td>\n",
       "      <td>0.9683</td>\n",
       "      <td>0.9718</td>\n",
       "      <td>0.9726</td>\n",
       "    </tr>\n",
       "    <tr>\n",
       "      <th>12</th>\n",
       "      <td>0.9676</td>\n",
       "      <td>0.9757</td>\n",
       "      <td>0.9775</td>\n",
       "      <td>0.9783</td>\n",
       "    </tr>\n",
       "  </tbody>\n",
       "</table>\n",
       "</div>"
      ],
      "text/plain": [
       "param_randomforestregressor__max_features      4       8       12      16\n",
       "4                                          0.8672  0.9031  0.9073  0.9080\n",
       "6                                          0.9182  0.9345  0.9390  0.9403\n",
       "8                                          0.9433  0.9555  0.9591  0.9604\n",
       "10                                         0.9581  0.9683  0.9718  0.9726\n",
       "12                                         0.9676  0.9757  0.9775  0.9783"
      ]
     },
     "execution_count": 43,
     "metadata": {},
     "output_type": "execute_result"
    }
   ],
   "source": [
    "res2 = pd.pivot_table(pd.DataFrame(grid_random.cv_results_), values='mean_test_score', \n",
    "                     index='param_randomforestregressor__max_depth', columns='param_randomforestregressor__max_features')\n",
    "pd.set_option(\"display.precision\",4)\n",
    "res2 = res2.set_index(res2.index.values.round(4))\n",
    "res2"
   ]
  },
  {
   "cell_type": "code",
   "execution_count": null,
   "metadata": {
    "id": "eIvGg0L9tpC1",
    "outputId": "d245c8b2-9fda-4e53-fc3d-22fd66c275a3"
   },
   "outputs": [
    {
     "data": {
      "text/plain": [
       "<AxesSubplot:xlabel='param_randomforestregressor__max_features'>"
      ]
     },
     "execution_count": 44,
     "metadata": {},
     "output_type": "execute_result"
    },
    {
     "data": {
      "image/png": "[encoded data removed]",
      "text/plain": [
       "<Figure size 432x288 with 2 Axes>"
      ]
     },
     "metadata": {
      "needs_background": "light"
     },
     "output_type": "display_data"
    }
   ],
   "source": [
    "import seaborn as sns\n",
    "sns.heatmap(res2, annot=True, fmt=\".3g\", vmin=0.6)"
   ]
  },
  {
   "cell_type": "code",
   "execution_count": null,
   "metadata": {
    "id": "h9kdP309tpC2",
    "outputId": "b4e73624-ad5b-486b-b76e-8ba5fdefc4bf",
    "scrolled": true
   },
   "outputs": [
    {
     "name": "stdout",
     "output_type": "stream",
     "text": [
      "Best parameters: {'randomforestregressor__max_depth': 12, 'randomforestregressor__max_features': 16}\n",
      "Best R^2 of validation set is: 0.978\n",
      "R^2 of test set is: 0.977\n"
     ]
    }
   ],
   "source": [
    "print(\"Best parameters: {}\".format(grid_random.best_params_))\n",
    "print(\"Best R^2 of validation set is: {:.3f}\".format(grid_random.best_score_)) \n",
    "print(\"R^2 of test set is: {:.3f}\".format(grid_random.score(X_test, y_test))) "
   ]
  },
  {
   "cell_type": "markdown",
   "metadata": {
    "id": "TYdCBJ-mtpC2"
   },
   "source": [
    "## Model 5: Linear SVR"
   ]
  },
  {
   "cell_type": "markdown",
   "metadata": {
    "id": "ETpVs3CEtpC2"
   },
   "source": [
    "- LinearSVR has more flexibility in the choice of penalties and loss functions and should scale better to large number of samples. Therefore, we decided to use LinearSVR for our data set.\n",
    "- For LinearSVR, we built a pipeline with svr_c = [1, 10, 100]. \n",
    "- Using 5-fold cross-validation with their default parameters and fit the training data, the best paramters generated has svr_c of 100.\n",
    "- The best score on the validation set is 0.953 and test set is 0.956. Showing better performance on testset."
   ]
  },
  {
   "cell_type": "code",
   "execution_count": null,
   "metadata": {
    "id": "9iY_hTfatpC2",
    "outputId": "3d08c730-b7be-448b-924f-696348b559fc"
   },
   "outputs": [
    {
     "data": {
      "text/plain": [
       "GridSearchCV(cv=5,\n",
       "             estimator=Pipeline(steps=[('columntransformer',\n",
       "                                        ColumnTransformer(transformers=[('onehotencoder',\n",
       "                                                                         OneHotEncoder(),\n",
       "                                                                         ['cut',\n",
       "                                                                          'color',\n",
       "                                                                          'clarity']),\n",
       "                                                                        ('standardscaler',\n",
       "                                                                         StandardScaler(),\n",
       "                                                                         ['carat',\n",
       "                                                                          'depth',\n",
       "                                                                          'table',\n",
       "                                                                          'x',\n",
       "                                                                          'y',\n",
       "                                                                          'z'])])),\n",
       "                                       ('svr', SVR())]),\n",
       "             n_jobs=-1, param_grid={'svr__C': [1, 10, 100]},\n",
       "             return_train_score=True)"
      ]
     },
     "execution_count": 46,
     "metadata": {},
     "output_type": "execute_result"
    }
   ],
   "source": [
    "from sklearn.svm import SVR\n",
    "pipe_cat = OneHotEncoder()\n",
    "pipe_num = StandardScaler()\n",
    "preprocessor = make_column_transformer((pipe_cat, col_cat), (pipe_num, col_num)) \n",
    "\n",
    "pipe = make_pipeline(preprocessor, SVR()) \n",
    "param_grid = {'svr__C': [1,10,100]}      \n",
    "\n",
    "grid_svr = GridSearchCV(pipe, param_grid=param_grid, cv=5, n_jobs=-1,return_train_score=True) \n",
    "grid_svr.fit(X_train, y_train)"
   ]
  },
  {
   "cell_type": "code",
   "execution_count": null,
   "metadata": {
    "id": "E6eioN_0tpC2",
    "outputId": "4b0ca4c2-4fd7-4645-9ad5-6174f41adf67"
   },
   "outputs": [
    {
     "data": {
      "text/html": [
       "<div>\n",
       "<style scoped>\n",
       "    .dataframe tbody tr th:only-of-type {\n",
       "        vertical-align: middle;\n",
       "    }\n",
       "\n",
       "    .dataframe tbody tr th {\n",
       "        vertical-align: top;\n",
       "    }\n",
       "\n",
       "    .dataframe thead th {\n",
       "        text-align: right;\n",
       "    }\n",
       "</style>\n",
       "<table border=\"1\" class=\"dataframe\">\n",
       "  <thead>\n",
       "    <tr style=\"text-align: right;\">\n",
       "      <th></th>\n",
       "      <th>mean_fit_time</th>\n",
       "      <th>std_fit_time</th>\n",
       "      <th>mean_score_time</th>\n",
       "      <th>std_score_time</th>\n",
       "      <th>param_svr__C</th>\n",
       "      <th>params</th>\n",
       "      <th>split0_test_score</th>\n",
       "      <th>split1_test_score</th>\n",
       "      <th>split2_test_score</th>\n",
       "      <th>split3_test_score</th>\n",
       "      <th>split4_test_score</th>\n",
       "      <th>mean_test_score</th>\n",
       "      <th>std_test_score</th>\n",
       "      <th>rank_test_score</th>\n",
       "      <th>split0_train_score</th>\n",
       "      <th>split1_train_score</th>\n",
       "      <th>split2_train_score</th>\n",
       "      <th>split3_train_score</th>\n",
       "      <th>split4_train_score</th>\n",
       "      <th>mean_train_score</th>\n",
       "      <th>std_train_score</th>\n",
       "    </tr>\n",
       "  </thead>\n",
       "  <tbody>\n",
       "    <tr>\n",
       "      <th>0</th>\n",
       "      <td>110.9241</td>\n",
       "      <td>0.1507</td>\n",
       "      <td>56.5311</td>\n",
       "      <td>0.0810</td>\n",
       "      <td>1</td>\n",
       "      <td>{'svr__C': 1}</td>\n",
       "      <td>0.4609</td>\n",
       "      <td>0.4560</td>\n",
       "      <td>0.4474</td>\n",
       "      <td>0.4659</td>\n",
       "      <td>0.4517</td>\n",
       "      <td>0.4564</td>\n",
       "      <td>0.0065</td>\n",
       "      <td>3</td>\n",
       "      <td>0.4567</td>\n",
       "      <td>0.4547</td>\n",
       "      <td>0.4566</td>\n",
       "      <td>0.4562</td>\n",
       "      <td>0.4583</td>\n",
       "      <td>0.4565</td>\n",
       "      <td>0.0012</td>\n",
       "    </tr>\n",
       "    <tr>\n",
       "      <th>1</th>\n",
       "      <td>99.8276</td>\n",
       "      <td>4.5634</td>\n",
       "      <td>53.3936</td>\n",
       "      <td>3.4561</td>\n",
       "      <td>10</td>\n",
       "      <td>{'svr__C': 10}</td>\n",
       "      <td>0.8534</td>\n",
       "      <td>0.8561</td>\n",
       "      <td>0.8439</td>\n",
       "      <td>0.8564</td>\n",
       "      <td>0.8480</td>\n",
       "      <td>0.8516</td>\n",
       "      <td>0.0049</td>\n",
       "      <td>2</td>\n",
       "      <td>0.8524</td>\n",
       "      <td>0.8509</td>\n",
       "      <td>0.8530</td>\n",
       "      <td>0.8519</td>\n",
       "      <td>0.8518</td>\n",
       "      <td>0.8520</td>\n",
       "      <td>0.0007</td>\n",
       "    </tr>\n",
       "    <tr>\n",
       "      <th>2</th>\n",
       "      <td>94.5787</td>\n",
       "      <td>0.3655</td>\n",
       "      <td>49.6576</td>\n",
       "      <td>0.2510</td>\n",
       "      <td>100</td>\n",
       "      <td>{'svr__C': 100}</td>\n",
       "      <td>0.9524</td>\n",
       "      <td>0.9564</td>\n",
       "      <td>0.9487</td>\n",
       "      <td>0.9550</td>\n",
       "      <td>0.9522</td>\n",
       "      <td>0.9529</td>\n",
       "      <td>0.0027</td>\n",
       "      <td>1</td>\n",
       "      <td>0.9544</td>\n",
       "      <td>0.9532</td>\n",
       "      <td>0.9546</td>\n",
       "      <td>0.9533</td>\n",
       "      <td>0.9535</td>\n",
       "      <td>0.9538</td>\n",
       "      <td>0.0006</td>\n",
       "    </tr>\n",
       "  </tbody>\n",
       "</table>\n",
       "</div>"
      ],
      "text/plain": [
       "   mean_fit_time  std_fit_time  mean_score_time  std_score_time param_svr__C  \\\n",
       "0       110.9241        0.1507          56.5311          0.0810            1   \n",
       "1        99.8276        4.5634          53.3936          3.4561           10   \n",
       "2        94.5787        0.3655          49.6576          0.2510          100   \n",
       "\n",
       "            params  split0_test_score  split1_test_score  split2_test_score  \\\n",
       "0    {'svr__C': 1}             0.4609             0.4560             0.4474   \n",
       "1   {'svr__C': 10}             0.8534             0.8561             0.8439   \n",
       "2  {'svr__C': 100}             0.9524             0.9564             0.9487   \n",
       "\n",
       "   split3_test_score  split4_test_score  mean_test_score  std_test_score  \\\n",
       "0             0.4659             0.4517           0.4564          0.0065   \n",
       "1             0.8564             0.8480           0.8516          0.0049   \n",
       "2             0.9550             0.9522           0.9529          0.0027   \n",
       "\n",
       "   rank_test_score  split0_train_score  split1_train_score  \\\n",
       "0                3              0.4567              0.4547   \n",
       "1                2              0.8524              0.8509   \n",
       "2                1              0.9544              0.9532   \n",
       "\n",
       "   split2_train_score  split3_train_score  split4_train_score  \\\n",
       "0              0.4566              0.4562              0.4583   \n",
       "1              0.8530              0.8519              0.8518   \n",
       "2              0.9546              0.9533              0.9535   \n",
       "\n",
       "   mean_train_score  std_train_score  \n",
       "0            0.4565           0.0012  \n",
       "1            0.8520           0.0007  \n",
       "2            0.9538           0.0006  "
      ]
     },
     "execution_count": 47,
     "metadata": {},
     "output_type": "execute_result"
    }
   ],
   "source": [
    "df_svr = pd.DataFrame(grid_svr.cv_results_)\n",
    "df_svr"
   ]
  },
  {
   "cell_type": "code",
   "execution_count": null,
   "metadata": {
    "id": "Lb2jYnO6tpC2",
    "outputId": "346804f5-1fda-4733-ebf4-f5d980123853"
   },
   "outputs": [
    {
     "name": "stderr",
     "output_type": "stream",
     "text": [
      "<ipython-input-48-7a9e222032bf>:4: DeprecationWarning: `np.int` is a deprecated alias for the builtin `int`. To silence this warning, use `int` by itself. Doing this will not modify any behavior and is safe. When replacing `np.int`, you may wish to use e.g. `np.int64` or `np.int32` to specify the precision. If you wish to review your current use, check the release note link for additional information.\n",
      "Deprecated in NumPy 1.20; for more details and guidance: https://numpy.org/devdocs/release/1.20.0-notes.html#deprecations\n",
      "  plt.fill_between(df_svr.param_svr__C.astype(np.int),\n",
      "<ipython-input-48-7a9e222032bf>:7: DeprecationWarning: `np.int` is a deprecated alias for the builtin `int`. To silence this warning, use `int` by itself. Doing this will not modify any behavior and is safe. When replacing `np.int`, you may wish to use e.g. `np.int64` or `np.int32` to specify the precision. If you wish to review your current use, check the release note link for additional information.\n",
      "Deprecated in NumPy 1.20; for more details and guidance: https://numpy.org/devdocs/release/1.20.0-notes.html#deprecations\n",
      "  plt.fill_between(df_svr.param_svr__C.astype(np.int),\n"
     ]
    },
    {
     "data": {
      "text/plain": [
       "<matplotlib.legend.Legend at 0x7fc86bb48280>"
      ]
     },
     "execution_count": 48,
     "metadata": {},
     "output_type": "execute_result"
    },
    {
     "data": {
      "image/png": "[encoded data removed]",
      "text/plain": [
       "<Figure size 432x288 with 1 Axes>"
      ]
     },
     "metadata": {
      "needs_background": "light"
     },
     "output_type": "display_data"
    }
   ],
   "source": [
    "#plot\n",
    "df_svr.plot('param_svr__C', 'mean_train_score')\n",
    "df_svr.plot('param_svr__C', 'mean_test_score', ax=plt.gca())\n",
    "plt.fill_between(df_svr.param_svr__C.astype(np.int),\n",
    "                 df_svr['mean_train_score'] + df_svr['std_train_score'],\n",
    "                 df_svr['mean_train_score'] - df_svr['std_train_score'], alpha=0.2)\n",
    "plt.fill_between(df_svr.param_svr__C.astype(np.int),\n",
    "                 df_svr['mean_test_score'] + df_svr['std_test_score'],\n",
    "                 df_svr['mean_test_score'] - df_svr['std_test_score'], alpha=0.2)\n",
    "plt.legend()\n",
    "#shadow is the standard deviation of the performance."
   ]
  },
  {
   "cell_type": "code",
   "execution_count": null,
   "metadata": {
    "id": "3BFHkldCtpC2",
    "outputId": "9820ea14-8c0c-41a2-f368-41ba163c57ae"
   },
   "outputs": [
    {
     "name": "stdout",
     "output_type": "stream",
     "text": [
      "Best parameters: {'svr__C': 100}\n",
      "Best R^2 of validation set is: 0.953\n",
      "R^2 of test set is: 0.956\n"
     ]
    }
   ],
   "source": [
    "print(\"Best parameters: {}\".format(grid_svr.best_params_))\n",
    "print(\"Best R^2 of validation set is: {:.3f}\".format(grid_svr.best_score_)) \n",
    "print(\"R^2 of test set is: {:.3f}\".format(grid_svr.score(X_test, y_test))) "
   ]
  },
  {
   "cell_type": "markdown",
   "metadata": {
    "id": "PyAV2qtbtpC3"
   },
   "source": [
    "## Model 6: Gradient Boosting Regressor"
   ]
  },
  {
   "cell_type": "markdown",
   "metadata": {
    "id": "9bq6kE6jtpC3"
   },
   "source": [
    "- Gradient boosting regressor often provided accuracy that cannot be trumped with lots of flexibility to optimize on different loss functions and provides multiple hyperparamter tuning options to make the function fit very flexible which is suitable for our chosen data set.\n",
    "- For graident boosting regressor, we built a pipeline with learning rate: np.logspace(-2, 0, 3) and n_estimators: [10, 100, 1000].\n",
    "- Using 5-fold cross-validation with their default parameters and fit the training data, the best paramters generated has a learning rate of 0.1 and n_estimators of 1000.\n",
    "- By visuazling the best r^2 on heat maps, the best parameter is on the border, indicating that we could possibly add another layer of learning rate and n_estimators to further explore. However, due to the size of the data set and extensive run time, we decide to keep the current parameters as the best parameters.\n",
    "- The best score on the validation set is 0.979 and testset is 0.978. "
   ]
  },
  {
   "cell_type": "code",
   "execution_count": null,
   "metadata": {
    "id": "7cDQP6OEtpC3",
    "outputId": "8104adcc-edb2-460a-d4c6-d52da1bcafea"
   },
   "outputs": [
    {
     "data": {
      "text/plain": [
       "GridSearchCV(cv=5,\n",
       "             estimator=Pipeline(steps=[('columntransformer',\n",
       "                                        ColumnTransformer(transformers=[('onehotencoder',\n",
       "                                                                         OneHotEncoder(),\n",
       "                                                                         ['cut',\n",
       "                                                                          'color',\n",
       "                                                                          'clarity']),\n",
       "                                                                        ('standardscaler',\n",
       "                                                                         StandardScaler(),\n",
       "                                                                         ['carat',\n",
       "                                                                          'depth',\n",
       "                                                                          'table',\n",
       "                                                                          'x',\n",
       "                                                                          'y',\n",
       "                                                                          'z'])])),\n",
       "                                       ('gradientboostingregressor',\n",
       "                                        GradientBoostingRegressor())]),\n",
       "             n_jobs=-1,\n",
       "             param_grid={'gradientboostingregressor__learning_rate': array([0.01, 0.1 , 1.  ]),\n",
       "                         'gradientboostingregressor__n_estimators': [10, 100,\n",
       "                                                                     1000]},\n",
       "             return_train_score=True)"
      ]
     },
     "execution_count": 50,
     "metadata": {},
     "output_type": "execute_result"
    }
   ],
   "source": [
    "from sklearn.ensemble import GradientBoostingRegressor\n",
    "\n",
    "pipe_cat = OneHotEncoder()\n",
    "pipe_num = StandardScaler()\n",
    "preprocessor = make_column_transformer((pipe_cat, col_cat), (pipe_num, col_num)) \n",
    "pipe = make_pipeline(preprocessor, GradientBoostingRegressor())  \n",
    "\n",
    "np.set_printoptions(precision=6, suppress=True)   \n",
    "param_grid = {'gradientboostingregressor__learning_rate': np.logspace(-2, 0, 3), \n",
    "              'gradientboostingregressor__n_estimators': [10, 100, 1000]} \n",
    "\n",
    "grid_gb = GridSearchCV(pipe, param_grid=param_grid, cv=5, n_jobs=-1,return_train_score=True) \n",
    "grid_gb.fit(X_train, y_train)"
   ]
  },
  {
   "cell_type": "code",
   "execution_count": null,
   "metadata": {
    "id": "D4iptPeKtpC3",
    "outputId": "4f08504b-d295-4017-cea7-509a2b940d3e"
   },
   "outputs": [
    {
     "data": {
      "text/html": [
       "<div>\n",
       "<style scoped>\n",
       "    .dataframe tbody tr th:only-of-type {\n",
       "        vertical-align: middle;\n",
       "    }\n",
       "\n",
       "    .dataframe tbody tr th {\n",
       "        vertical-align: top;\n",
       "    }\n",
       "\n",
       "    .dataframe thead th {\n",
       "        text-align: right;\n",
       "    }\n",
       "</style>\n",
       "<table border=\"1\" class=\"dataframe\">\n",
       "  <thead>\n",
       "    <tr style=\"text-align: right;\">\n",
       "      <th></th>\n",
       "      <th>mean_fit_time</th>\n",
       "      <th>std_fit_time</th>\n",
       "      <th>mean_score_time</th>\n",
       "      <th>std_score_time</th>\n",
       "      <th>param_gradientboostingregressor__learning_rate</th>\n",
       "      <th>param_gradientboostingregressor__n_estimators</th>\n",
       "      <th>params</th>\n",
       "      <th>split0_test_score</th>\n",
       "      <th>split1_test_score</th>\n",
       "      <th>split2_test_score</th>\n",
       "      <th>split3_test_score</th>\n",
       "      <th>split4_test_score</th>\n",
       "      <th>mean_test_score</th>\n",
       "      <th>std_test_score</th>\n",
       "      <th>rank_test_score</th>\n",
       "      <th>split0_train_score</th>\n",
       "      <th>split1_train_score</th>\n",
       "      <th>split2_train_score</th>\n",
       "      <th>split3_train_score</th>\n",
       "      <th>split4_train_score</th>\n",
       "      <th>mean_train_score</th>\n",
       "      <th>std_train_score</th>\n",
       "    </tr>\n",
       "  </thead>\n",
       "  <tbody>\n",
       "    <tr>\n",
       "      <th>0</th>\n",
       "      <td>0.8699</td>\n",
       "      <td>0.0063</td>\n",
       "      <td>0.0181</td>\n",
       "      <td>0.0010</td>\n",
       "      <td>0.01</td>\n",
       "      <td>10</td>\n",
       "      <td>{'gradientboostingregressor__learning_rate': 0...</td>\n",
       "      <td>0.1600</td>\n",
       "      <td>0.1592</td>\n",
       "      <td>0.1592</td>\n",
       "      <td>0.1606</td>\n",
       "      <td>0.1562</td>\n",
       "      <td>0.1590</td>\n",
       "      <td>0.0015</td>\n",
       "      <td>9</td>\n",
       "      <td>0.1593</td>\n",
       "      <td>0.1591</td>\n",
       "      <td>0.1594</td>\n",
       "      <td>0.1591</td>\n",
       "      <td>0.1593</td>\n",
       "      <td>0.1592</td>\n",
       "      <td>1.3553e-04</td>\n",
       "    </tr>\n",
       "    <tr>\n",
       "      <th>1</th>\n",
       "      <td>7.5371</td>\n",
       "      <td>0.0128</td>\n",
       "      <td>0.0354</td>\n",
       "      <td>0.0004</td>\n",
       "      <td>0.01</td>\n",
       "      <td>100</td>\n",
       "      <td>{'gradientboostingregressor__learning_rate': 0...</td>\n",
       "      <td>0.7714</td>\n",
       "      <td>0.7725</td>\n",
       "      <td>0.7713</td>\n",
       "      <td>0.7760</td>\n",
       "      <td>0.7636</td>\n",
       "      <td>0.7709</td>\n",
       "      <td>0.0041</td>\n",
       "      <td>8</td>\n",
       "      <td>0.7721</td>\n",
       "      <td>0.7717</td>\n",
       "      <td>0.7726</td>\n",
       "      <td>0.7716</td>\n",
       "      <td>0.7724</td>\n",
       "      <td>0.7721</td>\n",
       "      <td>3.6385e-04</td>\n",
       "    </tr>\n",
       "    <tr>\n",
       "      <th>2</th>\n",
       "      <td>76.6849</td>\n",
       "      <td>0.0786</td>\n",
       "      <td>0.1707</td>\n",
       "      <td>0.0042</td>\n",
       "      <td>0.01</td>\n",
       "      <td>1000</td>\n",
       "      <td>{'gradientboostingregressor__learning_rate': 0...</td>\n",
       "      <td>0.9650</td>\n",
       "      <td>0.9667</td>\n",
       "      <td>0.9657</td>\n",
       "      <td>0.9680</td>\n",
       "      <td>0.9668</td>\n",
       "      <td>0.9664</td>\n",
       "      <td>0.0010</td>\n",
       "      <td>5</td>\n",
       "      <td>0.9687</td>\n",
       "      <td>0.9681</td>\n",
       "      <td>0.9684</td>\n",
       "      <td>0.9681</td>\n",
       "      <td>0.9682</td>\n",
       "      <td>0.9683</td>\n",
       "      <td>2.1653e-04</td>\n",
       "    </tr>\n",
       "    <tr>\n",
       "      <th>3</th>\n",
       "      <td>0.8072</td>\n",
       "      <td>0.0045</td>\n",
       "      <td>0.0180</td>\n",
       "      <td>0.0003</td>\n",
       "      <td>0.1</td>\n",
       "      <td>10</td>\n",
       "      <td>{'gradientboostingregressor__learning_rate': 0...</td>\n",
       "      <td>0.7824</td>\n",
       "      <td>0.7837</td>\n",
       "      <td>0.7827</td>\n",
       "      <td>0.7876</td>\n",
       "      <td>0.7752</td>\n",
       "      <td>0.7823</td>\n",
       "      <td>0.0040</td>\n",
       "      <td>7</td>\n",
       "      <td>0.7833</td>\n",
       "      <td>0.7829</td>\n",
       "      <td>0.7838</td>\n",
       "      <td>0.7834</td>\n",
       "      <td>0.7842</td>\n",
       "      <td>0.7835</td>\n",
       "      <td>4.5749e-04</td>\n",
       "    </tr>\n",
       "    <tr>\n",
       "      <th>4</th>\n",
       "      <td>7.6567</td>\n",
       "      <td>0.0476</td>\n",
       "      <td>0.0313</td>\n",
       "      <td>0.0002</td>\n",
       "      <td>0.1</td>\n",
       "      <td>100</td>\n",
       "      <td>{'gradientboostingregressor__learning_rate': 0...</td>\n",
       "      <td>0.9650</td>\n",
       "      <td>0.9674</td>\n",
       "      <td>0.9666</td>\n",
       "      <td>0.9685</td>\n",
       "      <td>0.9675</td>\n",
       "      <td>0.9670</td>\n",
       "      <td>0.0012</td>\n",
       "      <td>4</td>\n",
       "      <td>0.9689</td>\n",
       "      <td>0.9691</td>\n",
       "      <td>0.9690</td>\n",
       "      <td>0.9687</td>\n",
       "      <td>0.9687</td>\n",
       "      <td>0.9689</td>\n",
       "      <td>1.8418e-04</td>\n",
       "    </tr>\n",
       "    <tr>\n",
       "      <th>5</th>\n",
       "      <td>75.0279</td>\n",
       "      <td>2.6401</td>\n",
       "      <td>0.1277</td>\n",
       "      <td>0.0046</td>\n",
       "      <td>0.1</td>\n",
       "      <td>1000</td>\n",
       "      <td>{'gradientboostingregressor__learning_rate': 0...</td>\n",
       "      <td>0.9771</td>\n",
       "      <td>0.9792</td>\n",
       "      <td>0.9783</td>\n",
       "      <td>0.9794</td>\n",
       "      <td>0.9799</td>\n",
       "      <td>0.9788</td>\n",
       "      <td>0.0010</td>\n",
       "      <td>1</td>\n",
       "      <td>0.9858</td>\n",
       "      <td>0.9860</td>\n",
       "      <td>0.9862</td>\n",
       "      <td>0.9860</td>\n",
       "      <td>0.9857</td>\n",
       "      <td>0.9860</td>\n",
       "      <td>1.8619e-04</td>\n",
       "    </tr>\n",
       "    <tr>\n",
       "      <th>6</th>\n",
       "      <td>0.8252</td>\n",
       "      <td>0.0053</td>\n",
       "      <td>0.0174</td>\n",
       "      <td>0.0006</td>\n",
       "      <td>1.0</td>\n",
       "      <td>10</td>\n",
       "      <td>{'gradientboostingregressor__learning_rate': 1...</td>\n",
       "      <td>0.9598</td>\n",
       "      <td>0.9605</td>\n",
       "      <td>0.9579</td>\n",
       "      <td>0.9606</td>\n",
       "      <td>0.9636</td>\n",
       "      <td>0.9605</td>\n",
       "      <td>0.0019</td>\n",
       "      <td>6</td>\n",
       "      <td>0.9648</td>\n",
       "      <td>0.9620</td>\n",
       "      <td>0.9610</td>\n",
       "      <td>0.9610</td>\n",
       "      <td>0.9641</td>\n",
       "      <td>0.9626</td>\n",
       "      <td>1.5898e-03</td>\n",
       "    </tr>\n",
       "    <tr>\n",
       "      <th>7</th>\n",
       "      <td>7.6630</td>\n",
       "      <td>0.0760</td>\n",
       "      <td>0.0282</td>\n",
       "      <td>0.0006</td>\n",
       "      <td>1.0</td>\n",
       "      <td>100</td>\n",
       "      <td>{'gradientboostingregressor__learning_rate': 1...</td>\n",
       "      <td>0.9740</td>\n",
       "      <td>0.9763</td>\n",
       "      <td>0.9755</td>\n",
       "      <td>0.9744</td>\n",
       "      <td>0.9763</td>\n",
       "      <td>0.9753</td>\n",
       "      <td>0.0009</td>\n",
       "      <td>2</td>\n",
       "      <td>0.9842</td>\n",
       "      <td>0.9835</td>\n",
       "      <td>0.9836</td>\n",
       "      <td>0.9827</td>\n",
       "      <td>0.9842</td>\n",
       "      <td>0.9836</td>\n",
       "      <td>5.4075e-04</td>\n",
       "    </tr>\n",
       "    <tr>\n",
       "      <th>8</th>\n",
       "      <td>64.8025</td>\n",
       "      <td>1.7278</td>\n",
       "      <td>0.0841</td>\n",
       "      <td>0.0117</td>\n",
       "      <td>1.0</td>\n",
       "      <td>1000</td>\n",
       "      <td>{'gradientboostingregressor__learning_rate': 1...</td>\n",
       "      <td>0.9711</td>\n",
       "      <td>0.9726</td>\n",
       "      <td>0.9704</td>\n",
       "      <td>0.9719</td>\n",
       "      <td>0.9732</td>\n",
       "      <td>0.9719</td>\n",
       "      <td>0.0010</td>\n",
       "      <td>3</td>\n",
       "      <td>0.9945</td>\n",
       "      <td>0.9947</td>\n",
       "      <td>0.9947</td>\n",
       "      <td>0.9945</td>\n",
       "      <td>0.9947</td>\n",
       "      <td>0.9946</td>\n",
       "      <td>7.1852e-05</td>\n",
       "    </tr>\n",
       "  </tbody>\n",
       "</table>\n",
       "</div>"
      ],
      "text/plain": [
       "   mean_fit_time  std_fit_time  mean_score_time  std_score_time  \\\n",
       "0         0.8699        0.0063           0.0181          0.0010   \n",
       "1         7.5371        0.0128           0.0354          0.0004   \n",
       "2        76.6849        0.0786           0.1707          0.0042   \n",
       "3         0.8072        0.0045           0.0180          0.0003   \n",
       "4         7.6567        0.0476           0.0313          0.0002   \n",
       "5        75.0279        2.6401           0.1277          0.0046   \n",
       "6         0.8252        0.0053           0.0174          0.0006   \n",
       "7         7.6630        0.0760           0.0282          0.0006   \n",
       "8        64.8025        1.7278           0.0841          0.0117   \n",
       "\n",
       "  param_gradientboostingregressor__learning_rate  \\\n",
       "0                                           0.01   \n",
       "1                                           0.01   \n",
       "2                                           0.01   \n",
       "3                                            0.1   \n",
       "4                                            0.1   \n",
       "5                                            0.1   \n",
       "6                                            1.0   \n",
       "7                                            1.0   \n",
       "8                                            1.0   \n",
       "\n",
       "  param_gradientboostingregressor__n_estimators  \\\n",
       "0                                            10   \n",
       "1                                           100   \n",
       "2                                          1000   \n",
       "3                                            10   \n",
       "4                                           100   \n",
       "5                                          1000   \n",
       "6                                            10   \n",
       "7                                           100   \n",
       "8                                          1000   \n",
       "\n",
       "                                              params  split0_test_score  \\\n",
       "0  {'gradientboostingregressor__learning_rate': 0...             0.1600   \n",
       "1  {'gradientboostingregressor__learning_rate': 0...             0.7714   \n",
       "2  {'gradientboostingregressor__learning_rate': 0...             0.9650   \n",
       "3  {'gradientboostingregressor__learning_rate': 0...             0.7824   \n",
       "4  {'gradientboostingregressor__learning_rate': 0...             0.9650   \n",
       "5  {'gradientboostingregressor__learning_rate': 0...             0.9771   \n",
       "6  {'gradientboostingregressor__learning_rate': 1...             0.9598   \n",
       "7  {'gradientboostingregressor__learning_rate': 1...             0.9740   \n",
       "8  {'gradientboostingregressor__learning_rate': 1...             0.9711   \n",
       "\n",
       "   split1_test_score  split2_test_score  split3_test_score  split4_test_score  \\\n",
       "0             0.1592             0.1592             0.1606             0.1562   \n",
       "1             0.7725             0.7713             0.7760             0.7636   \n",
       "2             0.9667             0.9657             0.9680             0.9668   \n",
       "3             0.7837             0.7827             0.7876             0.7752   \n",
       "4             0.9674             0.9666             0.9685             0.9675   \n",
       "5             0.9792             0.9783             0.9794             0.9799   \n",
       "6             0.9605             0.9579             0.9606             0.9636   \n",
       "7             0.9763             0.9755             0.9744             0.9763   \n",
       "8             0.9726             0.9704             0.9719             0.9732   \n",
       "\n",
       "   mean_test_score  std_test_score  rank_test_score  split0_train_score  \\\n",
       "0           0.1590          0.0015                9              0.1593   \n",
       "1           0.7709          0.0041                8              0.7721   \n",
       "2           0.9664          0.0010                5              0.9687   \n",
       "3           0.7823          0.0040                7              0.7833   \n",
       "4           0.9670          0.0012                4              0.9689   \n",
       "5           0.9788          0.0010                1              0.9858   \n",
       "6           0.9605          0.0019                6              0.9648   \n",
       "7           0.9753          0.0009                2              0.9842   \n",
       "8           0.9719          0.0010                3              0.9945   \n",
       "\n",
       "   split1_train_score  split2_train_score  split3_train_score  \\\n",
       "0              0.1591              0.1594              0.1591   \n",
       "1              0.7717              0.7726              0.7716   \n",
       "2              0.9681              0.9684              0.9681   \n",
       "3              0.7829              0.7838              0.7834   \n",
       "4              0.9691              0.9690              0.9687   \n",
       "5              0.9860              0.9862              0.9860   \n",
       "6              0.9620              0.9610              0.9610   \n",
       "7              0.9835              0.9836              0.9827   \n",
       "8              0.9947              0.9947              0.9945   \n",
       "\n",
       "   split4_train_score  mean_train_score  std_train_score  \n",
       "0              0.1593            0.1592       1.3553e-04  \n",
       "1              0.7724            0.7721       3.6385e-04  \n",
       "2              0.9682            0.9683       2.1653e-04  \n",
       "3              0.7842            0.7835       4.5749e-04  \n",
       "4              0.9687            0.9689       1.8418e-04  \n",
       "5              0.9857            0.9860       1.8619e-04  \n",
       "6              0.9641            0.9626       1.5898e-03  \n",
       "7              0.9842            0.9836       5.4075e-04  \n",
       "8              0.9947            0.9946       7.1852e-05  "
      ]
     },
     "execution_count": 51,
     "metadata": {},
     "output_type": "execute_result"
    }
   ],
   "source": [
    "import pandas as pd\n",
    "df_gb = pd.DataFrame(grid_gb.cv_results_)\n",
    "df_gb"
   ]
  },
  {
   "cell_type": "code",
   "execution_count": null,
   "metadata": {
    "id": "TfVyW5a3tpC3",
    "outputId": "71537d69-6749-48f3-e700-c447d1be97ae"
   },
   "outputs": [
    {
     "data": {
      "text/html": [
       "<div>\n",
       "<style scoped>\n",
       "    .dataframe tbody tr th:only-of-type {\n",
       "        vertical-align: middle;\n",
       "    }\n",
       "\n",
       "    .dataframe tbody tr th {\n",
       "        vertical-align: top;\n",
       "    }\n",
       "\n",
       "    .dataframe thead th {\n",
       "        text-align: right;\n",
       "    }\n",
       "</style>\n",
       "<table border=\"1\" class=\"dataframe\">\n",
       "  <thead>\n",
       "    <tr style=\"text-align: right;\">\n",
       "      <th>param_gradientboostingregressor__n_estimators</th>\n",
       "      <th>10</th>\n",
       "      <th>100</th>\n",
       "      <th>1000</th>\n",
       "    </tr>\n",
       "  </thead>\n",
       "  <tbody>\n",
       "    <tr>\n",
       "      <th>0.01</th>\n",
       "      <td>0.1590</td>\n",
       "      <td>0.7709</td>\n",
       "      <td>0.9664</td>\n",
       "    </tr>\n",
       "    <tr>\n",
       "      <th>0.10</th>\n",
       "      <td>0.7823</td>\n",
       "      <td>0.9670</td>\n",
       "      <td>0.9788</td>\n",
       "    </tr>\n",
       "    <tr>\n",
       "      <th>1.00</th>\n",
       "      <td>0.9605</td>\n",
       "      <td>0.9753</td>\n",
       "      <td>0.9719</td>\n",
       "    </tr>\n",
       "  </tbody>\n",
       "</table>\n",
       "</div>"
      ],
      "text/plain": [
       "param_gradientboostingregressor__n_estimators    10      100     1000\n",
       "0.01                                           0.1590  0.7709  0.9664\n",
       "0.10                                           0.7823  0.9670  0.9788\n",
       "1.00                                           0.9605  0.9753  0.9719"
      ]
     },
     "execution_count": 52,
     "metadata": {},
     "output_type": "execute_result"
    }
   ],
   "source": [
    "res3 = pd.pivot_table(pd.DataFrame(grid_gb.cv_results_), values='mean_test_score', index='param_gradientboostingregressor__learning_rate', columns='param_gradientboostingregressor__n_estimators')\n",
    "pd.set_option(\"display.precision\",4)\n",
    "res3 = res3.set_index(res3.index.values.round(4))\n",
    "res3"
   ]
  },
  {
   "cell_type": "code",
   "execution_count": null,
   "metadata": {
    "id": "g1ba23jEtpC3",
    "outputId": "8fc01795-1ed4-4993-a356-5f57cc158884"
   },
   "outputs": [
    {
     "data": {
      "text/plain": [
       "<AxesSubplot:xlabel='param_gradientboostingregressor__n_estimators'>"
      ]
     },
     "execution_count": 53,
     "metadata": {},
     "output_type": "execute_result"
    },
    {
     "data": {
      "image/png": "[encoded data removed]",
      "text/plain": [
       "<Figure size 432x288 with 2 Axes>"
      ]
     },
     "metadata": {
      "needs_background": "light"
     },
     "output_type": "display_data"
    }
   ],
   "source": [
    "import seaborn as sns\n",
    "sns.heatmap(res3, annot=True, fmt=\".3g\", vmin=0.6)"
   ]
  },
  {
   "cell_type": "code",
   "execution_count": null,
   "metadata": {
    "id": "1CEUWmFitpC3",
    "outputId": "fdd1c3d5-aa9d-47ec-e925-f68cd6d4d9b2"
   },
   "outputs": [
    {
     "name": "stdout",
     "output_type": "stream",
     "text": [
      "Best parameters: {'gradientboostingregressor__learning_rate': 0.1, 'gradientboostingregressor__n_estimators': 1000}\n",
      "Best R^2 of validation set is: 0.979\n",
      "R^2 of test set is: 0.978\n"
     ]
    }
   ],
   "source": [
    "print(\"Best parameters: {}\".format(grid_gb.best_params_))\n",
    "print(\"Best R^2 of validation set is: {:.3f}\".format(grid_gb.best_score_)) \n",
    "print(\"R^2 of test set is: {:.3f}\".format(grid_gb.score(X_test, y_test)))"
   ]
  },
  {
   "cell_type": "markdown",
   "metadata": {
    "id": "6t6V6wzbtpC4"
   },
   "source": [
    "## Model 7: XGBoost Regressor"
   ]
  },
  {
   "cell_type": "markdown",
   "metadata": {
    "id": "5GNxxXhLtpC4"
   },
   "source": [
    "- XGBoost regressor consists a number of hyper-parameters that can be tuned with an in-built capability to handle missing values.\n",
    "- For XGBoost regressor, we built a pipeline with the preprocessor.\n",
    "- XGBoost internally has parameters for cross-validation, therefore, did not require GridSearchCV.\n",
    "- The best score on the traning set is 0.991 and testing set is 0.980."
   ]
  },
  {
   "cell_type": "code",
   "execution_count": null,
   "metadata": {
    "id": "XeSotXdFtpC4",
    "outputId": "30784c97-f385-4d8d-9f42-a7e4e4e75ac2",
    "scrolled": true
   },
   "outputs": [
    {
     "data": {
      "text/plain": [
       "Pipeline(steps=[('columntransformer',\n",
       "                 ColumnTransformer(transformers=[('onehotencoder',\n",
       "                                                  OneHotEncoder(),\n",
       "                                                  ['cut', 'color', 'clarity']),\n",
       "                                                 ('standardscaler',\n",
       "                                                  StandardScaler(),\n",
       "                                                  ['carat', 'depth', 'table',\n",
       "                                                   'x', 'y', 'z'])])),\n",
       "                ('xgbregressor',\n",
       "                 XGBRegressor(base_score=0.5, booster='gbtree',\n",
       "                              colsample_bylevel=1, colsample_bynode=1,\n",
       "                              colsample_bytree=1, gamma=0, gpu_id=-1,\n",
       "                              importance_type='gain',\n",
       "                              interaction_constraints='',\n",
       "                              learning_rate=0.300000012, max_delta_step=0,\n",
       "                              max_depth=6, min_child_weight=1, missing=nan,\n",
       "                              monotone_constraints='()', n_estimators=100,\n",
       "                              n_jobs=0, num_parallel_tree=1, random_state=0,\n",
       "                              reg_alpha=0, reg_lambda=1, scale_pos_weight=1,\n",
       "                              subsample=1, tree_method='exact',\n",
       "                              validate_parameters=1, verbosity=None))])"
      ]
     },
     "execution_count": 20,
     "metadata": {},
     "output_type": "execute_result"
    }
   ],
   "source": [
    "from xgboost import XGBRegressor\n",
    "from sklearn.model_selection import cross_val_score\n",
    "\n",
    "pipe_cat = OneHotEncoder()\n",
    "pipe_num = StandardScaler()\n",
    "preprocessor = make_column_transformer((pipe_cat, col_cat), (pipe_num, col_num)) \n",
    "pipe_xg = make_pipeline(preprocessor, XGBRegressor())  \n",
    "pipe_xg.fit(X_train, y_train)"
   ]
  },
  {
   "cell_type": "code",
   "execution_count": null,
   "metadata": {
    "id": "fzb3zsHbtpC4",
    "outputId": "dc5ed843-4cb8-4a65-b88a-daec0d2af115"
   },
   "outputs": [
    {
     "name": "stdout",
     "output_type": "stream",
     "text": [
      "R^2 of training set is: 0.991\n",
      "R^2 of test set is: 0.980\n"
     ]
    }
   ],
   "source": [
    "print(\"R^2 of training set is: {:.3f}\".format(pipe_xg.score(X_train, y_train))) \n",
    "print(\"R^2 of test set is: {:.3f}\".format(pipe_xg.score(X_test, y_test)))"
   ]
  },
  {
   "cell_type": "markdown",
   "metadata": {
    "id": "u4x1PUNctpC4"
   },
   "source": [
    "## Model 8: Nueral Network - MLP Regressor"
   ]
  },
  {
   "cell_type": "markdown",
   "metadata": {
    "id": "thYBOwd5tpC4"
   },
   "source": [
    "- Class MLPRegressor implements a multi-layer perceptron (MLP) that trains using backpropagation with no activation function in the output layer, which can also be seen as using the identity function as an activation function.\n",
    "- In our model we used two different activation functions for hidden lay: ‘tanh’(default), the hyperbolic tan function, returns f(x) = tanh(x); ‘relu’, the rectified linear unit function, returns f(x) = max(0, x).\n",
    "- In the MLPRegressor, we used solver \"lbfgs\" which is an optimizer in the family of quasi-Newton methods. And set the maximum number of iterations to 1000\n",
    "- The R^2 by using relu method is 0.980 and for tanh method is 0.950.\n",
    "- Overall, using MLP Regressor with relu method has a better performance."
   ]
  },
  {
   "cell_type": "code",
   "execution_count": null,
   "metadata": {
    "id": "lPnKRRNntpC5"
   },
   "outputs": [],
   "source": [
    "X = pd.get_dummies(X, columns=['cut', 'color', 'clarity'])\n",
    "X_train, X_test, y_train, y_test = train_test_split(X, y,random_state=1)\n",
    "\n",
    "scaler = StandardScaler()\n",
    "scaler.fit(X_train)\n",
    "X_train = scaler.transform(X_train)\n",
    "X_test = scaler.transform(X_test)"
   ]
  },
  {
   "cell_type": "code",
   "execution_count": null,
   "metadata": {
    "id": "kud9lQbXtpC5",
    "outputId": "6e4f16aa-e7a7-4e3b-8d2f-a4601b660c1f"
   },
   "outputs": [
    {
     "name": "stderr",
     "output_type": "stream",
     "text": [
      "/Users/pengshuang/opt/anaconda3/lib/python3.8/site-packages/sklearn/neural_network/_multilayer_perceptron.py:500: ConvergenceWarning: lbfgs failed to converge (status=1):\n",
      "STOP: TOTAL NO. of ITERATIONS REACHED LIMIT.\n",
      "\n",
      "Increase the number of iterations (max_iter) or scale the data as shown in:\n",
      "    https://scikit-learn.org/stable/modules/preprocessing.html\n",
      "  self.n_iter_ = _check_optimize_result(\"lbfgs\", opt_res, self.max_iter)\n"
     ]
    },
    {
     "name": "stdout",
     "output_type": "stream",
     "text": [
      "The score with mlp_relu 0.9796972102206992\n",
      "The score with mlp_tanh 0.9459567342496729\n"
     ]
    },
    {
     "name": "stderr",
     "output_type": "stream",
     "text": [
      "/Users/pengshuang/opt/anaconda3/lib/python3.8/site-packages/sklearn/neural_network/_multilayer_perceptron.py:500: ConvergenceWarning: lbfgs failed to converge (status=1):\n",
      "STOP: TOTAL NO. of ITERATIONS REACHED LIMIT.\n",
      "\n",
      "Increase the number of iterations (max_iter) or scale the data as shown in:\n",
      "    https://scikit-learn.org/stable/modules/preprocessing.html\n",
      "  self.n_iter_ = _check_optimize_result(\"lbfgs\", opt_res, self.max_iter)\n"
     ]
    }
   ],
   "source": [
    "from sklearn.neural_network import MLPRegressor\n",
    "\n",
    "mlp_relu = MLPRegressor(solver=\"lbfgs\", max_iter = 1000).fit(X_train, y_train)\n",
    "mlp_tanh = MLPRegressor(solver=\"lbfgs\", max_iter = 1000, activation='tanh').fit(X_train, y_train)\n",
    "\n",
    "y_pred = mlp_relu.predict(X_test)\n",
    "y_pred2 = mlp_tanh.predict(X_test)\n",
    "\n",
    "from sklearn.metrics import r2_score\n",
    "print(\"The score with mlp_relu\", (r2_score(y_pred, y_test)))\n",
    "print(\"The score with mlp_tanh\", (r2_score(y_pred2, y_test)))"
   ]
  },
  {
   "cell_type": "markdown",
   "metadata": {
    "id": "1l8C_6WDtpC5"
   },
   "source": [
    "## Model 9: Nueral Network - Keras"
   ]
  },
  {
   "cell_type": "markdown",
   "metadata": {
    "id": "7tjkrZf-tpC5"
   },
   "source": [
    "- Keras is a simple tool for constructing a neural network. It is a high-level framework based on tensorflow, theano or cntk backends.\n",
    "- The model is created sequentially and the output of each layer we add is input to the next layer we specify. The sequential model has a total parameter of 1,078,273.\n",
    "- The R^2 of the test set of Keras is 0.976."
   ]
  },
  {
   "cell_type": "code",
   "execution_count": null,
   "metadata": {
    "id": "Rm1OPaXItpC5",
    "outputId": "48f944bc-0786-4632-f74c-aab176801c6b"
   },
   "outputs": [
    {
     "name": "stdout",
     "output_type": "stream",
     "text": [
      "Model: \"sequential\"\n",
      "_________________________________________________________________\n",
      " Layer (type)                Output Shape              Param #   \n",
      "=================================================================\n",
      " dense (Dense)               (None, 1024)              27648     \n",
      "                                                                 \n",
      " dense_1 (Dense)             (None, 1024)              1049600   \n",
      "                                                                 \n",
      " dense_2 (Dense)             (None, 1)                 1025      \n",
      "                                                                 \n",
      "=================================================================\n",
      "Total params: 1,078,273\n",
      "Trainable params: 1,078,273\n",
      "Non-trainable params: 0\n",
      "_________________________________________________________________\n"
     ]
    }
   ],
   "source": [
    "from keras.models import Sequential\n",
    "from keras.layers import Dense, Activation\n",
    "from keras.datasets import mnist\n",
    "from tensorflow import keras\n",
    "\n",
    "model1 = keras.Sequential([        \n",
    "    Dense(1024, input_shape=(26,), activation='relu'),\n",
    "    Dense(1024, activation='relu'),\n",
    "    Dense(1, activation='linear')\n",
    "])\n",
    "model1.summary()"
   ]
  },
  {
   "cell_type": "code",
   "execution_count": null,
   "metadata": {
    "id": "cizS6ZwdtpC5"
   },
   "outputs": [],
   "source": [
    "model1.compile(loss='mse', optimizer='adam', metrics=['mse', 'mae'])"
   ]
  },
  {
   "cell_type": "code",
   "execution_count": null,
   "metadata": {
    "id": "FY93eLN0tpC6",
    "outputId": "d1d40141-9fc1-46d7-faa8-1a46bb5c957e",
    "scrolled": true
   },
   "outputs": [
    {
     "name": "stdout",
     "output_type": "stream",
     "text": [
      "Epoch 1/20\n",
      "285/285 [==============================] - 12s 36ms/step - loss: 8115754.0000 - mse: 8115754.0000 - mae: 1452.7429 - val_loss: 680774.5625 - val_mse: 680774.5625 - val_mae: 534.8776\n",
      "Epoch 2/20\n",
      "285/285 [==============================] - 14s 49ms/step - loss: 607431.8750 - mse: 607431.8750 - mae: 494.3704 - val_loss: 560901.1875 - val_mse: 560901.1875 - val_mae: 459.6753\n",
      "Epoch 3/20\n",
      "285/285 [==============================] - 11s 40ms/step - loss: 513730.9062 - mse: 513730.9062 - mae: 415.1725 - val_loss: 479552.5625 - val_mse: 479552.5625 - val_mae: 378.9253\n",
      "Epoch 4/20\n",
      "285/285 [==============================] - 10s 37ms/step - loss: 455400.5625 - mse: 455400.5625 - mae: 367.8262 - val_loss: 439486.8750 - val_mse: 439486.8750 - val_mae: 355.7759\n",
      "Epoch 5/20\n",
      "285/285 [==============================] - 10s 36ms/step - loss: 428592.2188 - mse: 428592.2188 - mae: 352.1027 - val_loss: 411895.0312 - val_mse: 411895.0312 - val_mae: 340.9638\n",
      "Epoch 6/20\n",
      "285/285 [==============================] - 9s 32ms/step - loss: 411084.9688 - mse: 411084.9688 - mae: 344.0605 - val_loss: 412695.4688 - val_mse: 412695.4688 - val_mae: 337.2760\n",
      "Epoch 7/20\n",
      "285/285 [==============================] - 10s 35ms/step - loss: 401250.5312 - mse: 401250.5312 - mae: 337.2267 - val_loss: 392881.6875 - val_mse: 392881.6875 - val_mae: 330.9305\n",
      "Epoch 8/20\n",
      "285/285 [==============================] - 10s 36ms/step - loss: 390616.8438 - mse: 390616.8438 - mae: 332.2170 - val_loss: 388838.9062 - val_mse: 388838.9062 - val_mae: 325.9594\n",
      "Epoch 9/20\n",
      "285/285 [==============================] - 10s 34ms/step - loss: 384902.1250 - mse: 384902.1250 - mae: 329.6820 - val_loss: 377272.0938 - val_mse: 377272.0938 - val_mae: 322.3421\n",
      "Epoch 10/20\n",
      "285/285 [==============================] - 13s 44ms/step - loss: 380315.5625 - mse: 380315.5625 - mae: 325.3820 - val_loss: 372736.2500 - val_mse: 372736.2500 - val_mae: 318.9587\n",
      "Epoch 11/20\n",
      "285/285 [==============================] - 10s 36ms/step - loss: 373739.8750 - mse: 373739.8750 - mae: 322.6110 - val_loss: 374866.8438 - val_mse: 374866.8438 - val_mae: 320.2484\n",
      "Epoch 12/20\n",
      "285/285 [==============================] - 9s 31ms/step - loss: 372384.6562 - mse: 372384.6562 - mae: 321.5912 - val_loss: 369562.6875 - val_mse: 369562.6875 - val_mae: 315.8029\n",
      "Epoch 13/20\n",
      "285/285 [==============================] - 8s 30ms/step - loss: 365839.2188 - mse: 365839.2188 - mae: 318.3303 - val_loss: 373790.3125 - val_mse: 373790.3125 - val_mae: 321.4012\n",
      "Epoch 14/20\n",
      "285/285 [==============================] - 8s 29ms/step - loss: 365391.8438 - mse: 365391.8438 - mae: 318.2512 - val_loss: 363869.9688 - val_mse: 363869.9688 - val_mae: 312.8916\n",
      "Epoch 15/20\n",
      "285/285 [==============================] - 8s 29ms/step - loss: 361813.9062 - mse: 361813.9062 - mae: 317.1404 - val_loss: 373316.3438 - val_mse: 373316.3438 - val_mae: 320.0093\n",
      "Epoch 16/20\n",
      "285/285 [==============================] - 9s 32ms/step - loss: 358874.0625 - mse: 358874.0625 - mae: 313.6393 - val_loss: 361320.0625 - val_mse: 361320.0625 - val_mae: 313.7462\n",
      "Epoch 17/20\n",
      "285/285 [==============================] - 9s 30ms/step - loss: 358632.8438 - mse: 358632.8438 - mae: 314.7466 - val_loss: 364178.1875 - val_mse: 364178.1875 - val_mae: 308.7701\n",
      "Epoch 18/20\n",
      "285/285 [==============================] - 10s 35ms/step - loss: 356551.3125 - mse: 356551.3125 - mae: 313.3907 - val_loss: 359964.0625 - val_mse: 359964.0625 - val_mae: 307.8534\n",
      "Epoch 19/20\n",
      "285/285 [==============================] - 8s 29ms/step - loss: 354252.6250 - mse: 354252.6250 - mae: 311.8800 - val_loss: 364898.6875 - val_mse: 364898.6875 - val_mae: 318.5744\n",
      "Epoch 20/20\n",
      "285/285 [==============================] - 10s 34ms/step - loss: 351149.0625 - mse: 351149.0625 - mae: 310.4169 - val_loss: 368987.5000 - val_mse: 368987.5000 - val_mae: 317.1072\n"
     ]
    }
   ],
   "source": [
    "history1 = model1.fit(X_train, y_train, batch_size=128, epochs=20, verbose=1, validation_split=.1)"
   ]
  },
  {
   "cell_type": "code",
   "execution_count": null,
   "metadata": {
    "id": "XLaRikvGtpC6",
    "outputId": "e7b9b540-c292-4349-f28c-cc1e8ca89062"
   },
   "outputs": [
    {
     "data": {
      "text/plain": [
       "<matplotlib.legend.Legend at 0x7fc874969880>"
      ]
     },
     "execution_count": 61,
     "metadata": {},
     "output_type": "execute_result"
    },
    {
     "data": {
      "image/png": "[encoded data removed]",
      "text/plain": [
       "<Figure size 432x288 with 1 Axes>"
      ]
     },
     "metadata": {
      "needs_background": "light"
     },
     "output_type": "display_data"
    }
   ],
   "source": [
    "#plot the loss and validation loss of the dataset\n",
    "history1 = pd.DataFrame(history1.history)\n",
    "plt.plot(history1['loss'], label='loss')\n",
    "plt.plot(history1['val_loss'], label='val_loss')\n",
    "\n",
    "plt.legend()"
   ]
  },
  {
   "cell_type": "code",
   "execution_count": null,
   "metadata": {
    "id": "_-hOJ5k0tpC6",
    "outputId": "46557822-4659-48e4-b125-3d6783fddf9d"
   },
   "outputs": [
    {
     "name": "stdout",
     "output_type": "stream",
     "text": [
      "R^2 of test set is: 0.976\n"
     ]
    }
   ],
   "source": [
    "y_pred = model1.predict(X_test)\n",
    "from sklearn.metrics import r2_score\n",
    "\n",
    "print(\"R^2 of test set is: {:.3f}\".format((r2_score(y_pred, y_test))))"
   ]
  },
  {
   "cell_type": "markdown",
   "metadata": {
    "id": "BaX9GCmltpC6"
   },
   "source": [
    "<img src=\"pic_6.png\" />"
   ]
  },
  {
   "cell_type": "markdown",
   "metadata": {
    "id": "P_m3HQUdtpC6"
   },
   "source": [
    "## Best Model: XGB Regressor"
   ]
  },
  {
   "cell_type": "markdown",
   "metadata": {},
   "source": [
    "By comparing the 9 different models, we determined that XGBoosting Regressor is the best regressor to use for the diamond price prediction problem since it returned the highest R^2 value of 0.9801. We also calculated its adjusted R^2 as well as other metrics below. "
   ]
  },
  {
   "cell_type": "code",
   "execution_count": null,
   "metadata": {
    "id": "ATvxLEl5tpC7",
    "outputId": "d00e9ea5-ddcc-4823-9bb1-f8372bc22427",
    "scrolled": true
   },
   "outputs": [
    {
     "name": "stdout",
     "output_type": "stream",
     "text": [
      "R^2: 0.9801830773317559\n",
      "Adjusted R^2: 0.9801698317094749\n",
      "MAE: 284.5232786251486\n",
      "MSE: 301558.09007261303\n",
      "RMSE: 549.143050645834\n"
     ]
    }
   ],
   "source": [
    "pred = pipe_xg.predict(X_test)\n",
    "from sklearn import metrics\n",
    "print(\"R^2:\",metrics.r2_score(y_test, pred))\n",
    "print(\"Adjusted R^2:\",1 - (1-metrics.r2_score(y_test, pred))*(len(y_test)-1)/(len(y_test)-X_test.shape[1]-1))\n",
    "print(\"MAE:\",metrics.mean_absolute_error(y_test, pred))\n",
    "print(\"MSE:\",metrics.mean_squared_error(y_test, pred))\n",
    "print(\"RMSE:\",np.sqrt(metrics.mean_squared_error(y_test, pred)))"
   ]
  },
  {
   "cell_type": "markdown",
   "metadata": {
    "id": "uF3Br3oetpC8"
   },
   "source": [
    "## Predict Diamond Price"
   ]
  },
  {
   "cell_type": "markdown",
   "metadata": {},
   "source": [
    "In order to validate our model accuracy, we decided to create a dataframe with diamond information and statistics to see the predicted price for the specific 1.2 carat diamond with a premium cut, E color, and VS1 clarity. By comparing the price predicted to the price of similar diamonds in the data set, we believe that the XGBoosting Regressor produces a reliable price estimation."
   ]
  },
  {
   "cell_type": "code",
   "execution_count": null,
   "metadata": {
    "id": "j-Td-I-dtpC-",
    "outputId": "18ddbb30-bdb8-4e69-d7de-a72211fc8eed",
    "scrolled": true
   },
   "outputs": [
    {
     "data": {
      "text/html": [
       "<div>\n",
       "<style scoped>\n",
       "    .dataframe tbody tr th:only-of-type {\n",
       "        vertical-align: middle;\n",
       "    }\n",
       "\n",
       "    .dataframe tbody tr th {\n",
       "        vertical-align: top;\n",
       "    }\n",
       "\n",
       "    .dataframe thead th {\n",
       "        text-align: right;\n",
       "    }\n",
       "</style>\n",
       "<table border=\"1\" class=\"dataframe\">\n",
       "  <thead>\n",
       "    <tr style=\"text-align: right;\">\n",
       "      <th></th>\n",
       "      <th>carat</th>\n",
       "      <th>cut</th>\n",
       "      <th>color</th>\n",
       "      <th>clarity</th>\n",
       "      <th>depth</th>\n",
       "      <th>table</th>\n",
       "      <th>x</th>\n",
       "      <th>y</th>\n",
       "      <th>z</th>\n",
       "    </tr>\n",
       "  </thead>\n",
       "  <tbody>\n",
       "    <tr>\n",
       "      <th>0</th>\n",
       "      <td>1.2</td>\n",
       "      <td>Premium</td>\n",
       "      <td>E</td>\n",
       "      <td>VS1</td>\n",
       "      <td>58</td>\n",
       "      <td>57.0</td>\n",
       "      <td>6.5</td>\n",
       "      <td>6.82</td>\n",
       "      <td>4</td>\n",
       "    </tr>\n",
       "  </tbody>\n",
       "</table>\n",
       "</div>"
      ],
      "text/plain": [
       "   carat      cut color clarity  depth  table    x     y  z\n",
       "0    1.2  Premium     E     VS1     58   57.0  6.5  6.82  4"
      ]
     },
     "execution_count": 50,
     "metadata": {},
     "output_type": "execute_result"
    }
   ],
   "source": [
    "x= [[1.2 ,'Premium','E','VS1', 58, 57.0,6.50, 6.82, 4]]\n",
    "df2 = pd.DataFrame(x, columns = ['carat', 'cut','color','clarity','depth','table','x','y','z'])\n",
    "df2"
   ]
  },
  {
   "cell_type": "code",
   "execution_count": null,
   "metadata": {
    "id": "hcjOkOAhtpC_",
    "outputId": "ba308883-26d6-4ceb-9bf2-d3fa9d824b84"
   },
   "outputs": [
    {
     "data": {
      "text/plain": [
       "array([8395.687], dtype=float32)"
      ]
     },
     "execution_count": 51,
     "metadata": {},
     "output_type": "execute_result"
    }
   ],
   "source": [
    "pipe_xg.predict(df2)"
   ]
  },
  {
   "cell_type": "markdown",
   "metadata": {
    "id": "2kTeCm6utpC_"
   },
   "source": [
    "<img src=\"pic7.png\" />"
   ]
  },
  {
   "cell_type": "markdown",
   "metadata": {
    "id": "jb9MWVbEtpC_"
   },
   "source": [
    "- An accurate diamond price prediction model can help drive business success. \n",
    "- Implementing diamond price prediction as a part of the business process provides more insights & transparency for respective customers. By understanding the approximate pricing of the diamonds given their desired grade and quality, it will better help the customers to navigate the right diamonds during the selection process. \n",
    "- Given the high accuracy of our prediction model, it can be commercialized and used by customers and sellers as a useful price estimation tool.\n",
    "- For customers, an accurate price prediction can be a helpful benchmark for them to compare to the actual diamond selling price on the market and evaluate if diamonds are priced fairly, especially for miserable boyfriends who do not have knowledge about diamonds. The price prediction model will help them to align their specifications to their budget in order to get the best diamonds they want.\n",
    "- For sellers, the diamond price prediction is useful in their pricing strategies to ensure that their products are priced fairly and competitively in the market. Some luxurious jewelry brands' diamonds are a lot more expensive than other brands, indicating the customers willingly pay for the brand premiums. However, will the extreme high price scare away certain customers? Sellers can use the price prediction model as a tool to guide their market analysis and pricing strategy to determine what is the most reasonable pricing and bond premium for their diamonds that will intrigue the most amount of customers to buy from them.\n"
   ]
  }
 ],
 "metadata": {
  "colab": {
   "name": "Group5_FinalProject.ipynb",
   "provenance": []
  },
  "kernelspec": {
   "display_name": "Python 3",
   "language": "python",
   "name": "python3"
  },
  "language_info": {
   "codemirror_mode": {
    "name": "ipython",
    "version": 3
   },
   "file_extension": ".py",
   "mimetype": "text/x-python",
   "name": "python",
   "nbconvert_exporter": "python",
   "pygments_lexer": "ipython3",
   "version": "3.8.8"
  }
 },
 "nbformat": 4,
 "nbformat_minor": 1
}
